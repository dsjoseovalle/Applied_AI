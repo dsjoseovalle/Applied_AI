{
  "cells": [
    {
      "cell_type": "markdown",
      "metadata": {
        "id": "view-in-github",
        "colab_type": "text"
      },
      "source": [
        "<a href=\"https://colab.research.google.com/github/dsjoseovalle/Applied_AI/blob/main/NLP_LSI_LDI.ipynb\" target=\"_parent\"><img src=\"https://colab.research.google.com/assets/colab-badge.svg\" alt=\"Open In Colab\"/></a>"
      ]
    },
    {
      "cell_type": "markdown",
      "metadata": {
        "id": "p3KM9UNzfpEy"
      },
      "source": [
        "\n",
        "##**Curso: Procesamiento de Lenguaje Natural (NLP)**\n",
        "###**Modelado de Temas : LSI / LDA**"
      ]
    },
    {
      "cell_type": "code",
      "source": [
        "# !pip install shutup\n",
        "# import shutup\n",
        "# shutup.please()"
      ],
      "metadata": {
        "id": "j2iUEiVVCIRK"
      },
      "execution_count": 12,
      "outputs": []
    },
    {
      "cell_type": "markdown",
      "metadata": {
        "id": "LuIBlsWrf3fS"
      },
      "source": [
        "**1. Descarga el archivo noticiasTopicModeling.txt que se encuentra en Canvas. Este archivo consiste en\n",
        "5658 noticias de varios periódicos de España. El archivo de texto es una lista en el siguiente\n",
        "formato:\n",
        "[{“titular”:”Encabezado“, “texto”:”Cuerpo”}, … , {“titular”:”Encabezado”,”texto”:”Cuerpo”}]\n",
        "Donde “titular” es el encabezado de la noticia y “texto” es el cuerpo del texto de dicha noticia. En\n",
        "particular en esta actividad trabajarás solamente con los cuerpos de las noticias, sin incluir los\n",
        "encabezados. Carga dicho archivo y genera un DataFrame de Pandas llamado “df” y que contiene\n",
        "una única columna llamada “noticia” con 5658 renglones formados por los cuerpos de las noticias.**"
      ]
    },
    {
      "cell_type": "code",
      "execution_count": 13,
      "metadata": {
        "id": "DMYcdH9pqGJ1"
      },
      "outputs": [],
      "source": [
        "# importar librerías\n",
        "\n",
        "import pandas as pd\n",
        "import numpy  as np\n",
        "import json\n",
        "import re\n",
        "import string"
      ]
    },
    {
      "cell_type": "code",
      "source": [
        "# leer archivo\n",
        "\n",
        "with open(r'/content/noticiasTopicModeling.txt',\"r\") as file:\n",
        "  data = file.read()"
      ],
      "metadata": {
        "id": "G_YjkELzBBHx"
      },
      "execution_count": 14,
      "outputs": []
    },
    {
      "cell_type": "code",
      "source": [
        "# limpieza preliminar para transformar las noticias en un listado de noticias\n",
        "data = data[1:len(data)]\n",
        "data = data[0:len(data)-1]"
      ],
      "metadata": {
        "id": "PfvA7gQLl9i9"
      },
      "execution_count": 15,
      "outputs": []
    },
    {
      "cell_type": "code",
      "source": [
        "# ejemplo de la 1er noticia\n",
        "data[0:100]"
      ],
      "metadata": {
        "colab": {
          "base_uri": "https://localhost:8080/",
          "height": 36
        },
        "id": "3YPhyeJ5mKl7",
        "outputId": "9a551d10-ecc5-4680-ea78-f0a23545f658"
      },
      "execution_count": 16,
      "outputs": [
        {
          "output_type": "execute_result",
          "data": {
            "text/plain": [
              "'{\"titular\": \"Vox se sube a la ola de la extrema derecha europea y marca el fin de la excepci\\\\u00f3n '"
            ],
            "application/vnd.google.colaboratory.intrinsic+json": {
              "type": "string"
            }
          },
          "metadata": {},
          "execution_count": 16
        }
      ]
    },
    {
      "cell_type": "code",
      "source": [
        "# ejemplo de la última noticia\n",
        "data[len(data)-100:len(data)]"
      ],
      "metadata": {
        "colab": {
          "base_uri": "https://localhost:8080/",
          "height": 36
        },
        "id": "l3BloMy9mOw3",
        "outputId": "6a341b69-91ba-4af3-af06-f83b3fb4a433"
      },
      "execution_count": 17,
      "outputs": [
        {
          "output_type": "execute_result",
          "data": {
            "text/plain": [
              "'ene a 160.               Adaya Gonz\\\\u00e1lez         Etiquetas  \\\\u00a0\\\\u00a0/\\\\u00a0\\\\u00a0 Sociedad\"}'"
            ],
            "application/vnd.google.colaboratory.intrinsic+json": {
              "type": "string"
            }
          },
          "metadata": {},
          "execution_count": 17
        }
      ]
    },
    {
      "cell_type": "code",
      "source": [
        "# mandar noticias a lista\n",
        "\n",
        "mylist = data.split('},')\n",
        "\n",
        "data_list = []\n",
        "\n",
        "for titular in mylist:\n",
        "  titular = titular.strip()  \n",
        "  titular = titular +'}'\n",
        "  # print(titular)\n",
        "  titular = titular.replace('}}','}')\n",
        "  data_list.append(titular)"
      ],
      "metadata": {
        "id": "oh-YDMQRJ6nx"
      },
      "execution_count": 18,
      "outputs": []
    },
    {
      "cell_type": "code",
      "source": [
        "print(len(data_list))"
      ],
      "metadata": {
        "colab": {
          "base_uri": "https://localhost:8080/"
        },
        "id": "YsW8XtkZUbkJ",
        "outputId": "7b355703-6eb6-4c5f-e169-1f8a66e887a2"
      },
      "execution_count": 19,
      "outputs": [
        {
          "output_type": "stream",
          "name": "stdout",
          "text": [
            "5658\n"
          ]
        }
      ]
    },
    {
      "cell_type": "code",
      "source": [
        "# ejemplo de la 1er noticia ya agregada a la lista\n",
        "data_list[0]"
      ],
      "metadata": {
        "colab": {
          "base_uri": "https://localhost:8080/",
          "height": 110
        },
        "id": "PweFxvN8rLt6",
        "outputId": "93bb7618-8054-43f9-d96d-70d54acef7dc"
      },
      "execution_count": 20,
      "outputs": [
        {
          "output_type": "execute_result",
          "data": {
            "text/plain": [
              "'{\"titular\": \"Vox se sube a la ola de la extrema derecha europea y marca el fin de la excepci\\\\u00f3n espa\\\\u00f1ola\", \"texto\": \"\\\\\"Espa\\\\u00f1a ha dejado de ser cat\\\\u00f3lica\\\\\", dec\\\\u00eda Manuel Aza\\\\u00f1a al comienzo de la Segunda Rep\\\\u00fablica, cuando aquel Congreso de los Diputados aprob\\\\u00f3 las leyes laicistas. Era una met\\\\u00e1fora, dej\\\\u00f3 de ser cat\\\\u00f3lica sobre el papel de la ley, pero no en las creencias de buena parte de su pueblo.                  Contra la migraci\\\\u00f3n y la integraci\\\\u00f3n europea: el programa de Vox para Europa Saber m\\\\u00e1s           Espa\\\\u00f1a, este domingo 10 de noviembre, ha dejado de ser una excepci\\\\u00f3n en Europa por la potencia de la extrema derecha en su Parlamento. Pero tambi\\\\u00e9n es una met\\\\u00e1fora, pues precisamente lo excepcional era tener una dictadura a mediados de los setenta y que el dictador a\\\\u00fan estuviera en un mausoleo despu\\\\u00e9s de 40 a\\\\u00f1os muerto: no exist\\\\u00eda tal cosa ni en Portugal, Grecia, Italia y Alemania, pa\\\\u00edses de  dictaduras fascistas.                   Pero en Espa\\\\u00f1a, como s\\\\u00ed pas\\\\u00f3 en Portugal, Italia y Alemania, no se derrot\\\\u00f3 al fascismo, el franquismo muri\\\\u00f3 en la cama y con el harakiri de las Cortes franquistas; no hubo una ruptura de r\\\\u00e9gimen, sino una reforma; no naci\\\\u00f3 un nuevo pa\\\\u00eds, sino que el pa\\\\u00eds mut\\\\u00f3 de la ley a la ley. Y, aun as\\\\u00ed, Espa\\\\u00f1a parec\\\\u00eda vacunada, como si 40 a\\\\u00f1os de franquismo hubieran sido bastantes... hasta que ha llegado la irrupci\\\\u00f3n del posfranquismo tras ser actores fundamentales para los gobiernos auton\\\\u00f3micos y locales de PP y Ciudadanos.               Espa\\\\u00f1a ha dejado de ser una excepci\\\\u00f3n porque, aunque la Alianza Popular de Manuel Fraga bebiera del franquismo sociol\\\\u00f3gico y la Fuerza Nueva de Blas Pi\\\\u00f1ar del b\\\\u00fanker franquista; aunque ese franquismo sociol\\\\u00f3gico se mantuviera en el PP a lo largo de los tiempos; aunque Vox sea una escisi\\\\u00f3n del propio PP... Aunque todo esto sea as\\\\u00ed, lo cierto es que nunca hasta ahora en Espa\\\\u00f1a desde la reinstauraci\\\\u00f3n democr\\\\u00e1tica ha existido una fuerza de extrema derecha con el 15% de los votos y 52 esca\\\\u00f1os. Un fen\\\\u00f3meno que s\\\\u00ed ha pasado y est\\\\u00e1 pasando en otros pa\\\\u00edses europeos, aunque en ellos no opere como en Espa\\\\u00f1a la polarizaci\\\\u00f3n del eje nacional por la crisis con Catalunya.                  Por ejemplo, los mejores amigos de Vox en Europa \\\\u2013en el grupo ECR del Parlamento Europeo\\\\u2013 son el partido gobernante ultracat\\\\u00f3lico polaco PiS, que supera el 45% de los votos. Los principales referentes de la extrema derecha europea, Marine Le Pen y Matteo Salvini, que se han apresurado a felicitar a Santiago Abascal, presentan unos n\\\\u00fameros muy superiores a los de Vox: Le Pen sac\\\\u00f3 un 24% en las \\\\u00faltimas europeas; y Salvini, un 35%. O la extrema derecha austriaca (FP\\\\u00d6), que sac\\\\u00f3 hace mes y medio un 26% en las legislativas, incluso despu\\\\u00e9s de la crisis de la financiaci\\\\u00f3n rusa.                         En ese eje amplio de la extrema derecha europea se suele situar tambi\\\\u00e9n a los gobernantes h\\\\u00fangaros, al Fidesz de V\\\\u00edktor Orban. Suspendidos en el Partido Popular Europeo, a cuyo grupo parlamentario en la Euroc\\\\u00e1mara siguen perteneciendo, lograron un 52% en mayo pasado.                En efecto, Vox, a\\\\u00fan, est\\\\u00e1 en otro escal\\\\u00f3n. Pero es un escal\\\\u00f3n que ya le deja por encima de cl\\\\u00e1sicos de la extrema derecha europea, como los alemanes de la AfD \\\\u2013subcampeones en algunos l\\\\u00e4nder alemanes, pero que en mayo se quedaron en el 11%, por debajo del 12,6% de las generales de 2017\\\\u2013. O por encima de los que Geert Wilders sac\\\\u00f3 en 2017 en las legislativas holandesas (un 13%, antes de despe\\\\u00f1arse en las europeas de 2019 con menos del 4%).                   As\\\\u00ed, Vox llega al 15% que lograron los Dem\\\\u00f3cratas de Suecia en las europeas, dos puntos menos que en las generales de septiembre de 2018. Y m\\\\u00e1s que duplica al 6,7% que sumaron Soluci\\\\u00f3n Griega y Aurora Dorada en las elecciones de Grecia de julio pasado. Pero a dos puntos del Partido de los Finlandesas, que con el 17,4% se qued\\\\u00f3 a tres d\\\\u00e9cimas de ganar las elecciones finlandesas en abril pasado.         Etiquetas  \\\\u00a0\\\\u00a0/\\\\u00a0\\\\u00a0 Internacional \\\\u00a0\\\\u00a0/\\\\u00a0\\\\u00a0 Vox \\\\u00a0\\\\u00a0/\\\\u00a0\\\\u00a0 extrema derecha \\\\u00a0\\\\u00a0/\\\\u00a0\\\\u00a0 Europa\"}'"
            ],
            "application/vnd.google.colaboratory.intrinsic+json": {
              "type": "string"
            }
          },
          "metadata": {},
          "execution_count": 20
        }
      ]
    },
    {
      "cell_type": "code",
      "source": [
        "# ejemplo de la última noticia ya agregada a la lista\n",
        "print(data_list[len(data_list)-1])"
      ],
      "metadata": {
        "colab": {
          "base_uri": "https://localhost:8080/"
        },
        "id": "c7_2wMPHXLog",
        "outputId": "0ba6abf1-cc70-4d47-bb8d-7a1510b16a01"
      },
      "execution_count": 21,
      "outputs": [
        {
          "output_type": "stream",
          "name": "stdout",
          "text": [
            "{\"titular\": \"Las cifras de Madrid: un tercio de los casos y 42 % de muertes de toda Espa\\u00f1a\", \"texto\": \"Madrid, 1 sep (EFE).- Finalmente, septiembre ha arrancado muy alejado del bajo nivel de transmisi\\u00f3n que permitir\\u00eda volver a la actividad con algo m\\u00e1s de calma, una expectativa que se ha truncado especialmente en Madrid, comunidad que acumula un tercio de los casos y el 42 % de las muertes de las dos \\u00faltimas semanas.                  Unos datos que han vuelto a levantar al Gobierno regional contra el responsable de las alertas sanitarias, Fernando Sim\\u00f3n, en cuya defensa ha salido el presidente del Gobierno, Pedro S\\u00e1nchez, quien ha admitido que hay inquietud en el Ejecutivo por la evoluci\\u00f3n de la pandemia en la Comunidad de Madrid.                  En su exposici\\u00f3n habitual de los lunes, el director del Centro de Coordinaci\\u00f3n de Alertas y Emergencias Sanitarias (CCAES) aludi\\u00f3 ayer a que \\\"una gran parte de los diagn\\u00f3sticos y las defunciones se deben fundamentalmente a una comunidad aut\\u00f3noma, la Comunidad de Madrid, lo cual no quita para que otras comunidades tengan tambi\\u00e9n otros incrementos en los \\u00faltimos d\\u00edas, como Andaluc\\u00eda\\\".               Palabras que no gustaron a la presidenta regional, Isabel D\\u00edaz Ayuso, que utiliz\\u00f3 su perfil de Twitter para reprochar al epidemi\\u00f3logo sus aseveraciones con el siguiente mensaje: \\\"Este ensa\\u00f1amiento con Madrid es injusto, desproporcionado y perjudicial para Espa\\u00f1a. Si Madrid no se reactiva, Espa\\u00f1a se hunde\\\".                  Aunque hoy ha agradecido al jefe del Ejecutivo, \\\"la preocupaci\\u00f3n que siente el presidente @sanchezcastejon por Madrid. Aprovecho para volver a pedirle la reuni\\u00f3n que no me ha concedido en 12 meses\\\", seg\\u00fan ha escrito en la misma red social.               LAS CIFRAS DE LA DISCORDIA               Julio cerr\\u00f3 con 288.522 casos confirmados mediante PCR. Agosto lo hace con 462.858, lo que supone 174.336 nuevos contagios, de los que 49.912 corresponden a la Comunidad de Madrid, un 28,62 %. Le sigue Catalu\\u00f1a con 30.693 casos, un 17,6 % de los registrados este mes.                  Catalu\\u00f1a y Arag\\u00f3n centraron todas las preocupaciones de las autoridades sanitarias durante el mes de julio y parte de agosto debido principalmente a los brotes asociados a los temporeros, pero tambi\\u00e9n por la transmisi\\u00f3n detectada en el \\u00e1rea metropolitana de Barcelona.               Arag\\u00f3n lider\\u00f3 durante semanas las cifras de nuevos contagios, llegando a acumular durante d\\u00edas una incidencia superior a los 560 casos por cada 100.000 habitantes durante toda la primera mitad de agosto, aunque ha ido logrando rebajarla hasta los 280 que presentaba ayer, mientras que Catalu\\u00f1a se ha estado moviendo en una horquilla de entre 136 y el m\\u00e1ximo de 180 de este lunes.               Camino inverso al de Arag\\u00f3n ha seguido la de Madrid, donde la incidencia a 14 d\\u00edas ha ido creciendo progresivamente desde los 44 positivos por cada 100.000 habitantes que presentaba el 31 de julio a los 233 que registr\\u00f3 el d\\u00eda 17 de agosto.                  UN TERCIO DE LOS CASOS Y CUATRO DE CADA DIEZ MUERTES               En estas dos semanas, la Comunidad ha duplicado su incidencia hasta los 464 casos por cada 100.000 habitantes, lo que supone tambi\\u00e9n el doble de toda la tasa nacional, que se eleva a 205; de los 96.654 positivos confirmados en toda Espa\\u00f1a, un tercio (30.959), corresponden a la autonom\\u00eda madrile\\u00f1a.               As\\u00ed se desprende del \\u00faltimo informe de ayer por la tarde que el Ministerio de Sanidad elabora diariamente con los datos que le proporcionan las propias comunidades, y seg\\u00fan el cual, este fin de semana se han detectado 23.572 contagios, un tercio de ellos (7.457) en Madrid, que concentr\\u00f3 m\\u00e1s del doble que los comunicados por Catalu\\u00f1a (3.206) y el triple que el Pa\\u00eds Vasco (2.429).                  La proporci\\u00f3n es a\\u00fan mayor en el caso de las v\\u00edctimas mortales, ya que de las 266 personas con covid que han muerto en este periodo, 123 de ellas (un 42 %) han perdido la vida en la comunidad madrile\\u00f1a. La cifra se recrudece a\\u00fan m\\u00e1s en los \\u00faltimos siete d\\u00edas: en Madrid han muerto 66 de los 141 fallecidos contabilizados, un 46 %.               El 24 de agosto fue el m\\u00e1s siniestro del verano, con 31 defunciones registradas en toda Espa\\u00f1a; Madrid comunic\\u00f3 14 de ellas, las mismas que hab\\u00eda notificado el d\\u00eda anterior, cuando se produjeron un total de 28 decesos en nuestro pa\\u00eds.               EL 30 % DE LOS HOSPITALIZADOS Y EL 25 % DE LOS INGRESOS EN UCI               Los hospitales espa\\u00f1oles ten\\u00edan hasta las 15:30 horas de ayer a 6.957 pacientes ingresados con coronavirus, 2.128 de ellos en centros madrile\\u00f1os, un 30,5 % del total y m\\u00e1s de un millar m\\u00e1s que Catalu\\u00f1a, que tiene 1.076.               En 24 horas fueron ingresadas en la regi\\u00f3n madrile\\u00f1a 221 de los 750 personas hospitalizadas en Espa\\u00f1a; as\\u00ed, tiene ya un 16 % de sus camas ocupadas por enfermos covid frente al 6 % de media nacional, cuando hace menos de dos semanas, el 20 de agosto, la tasa era del 9,5 %, muy por debajo de la de Arag\\u00f3n, que era del 13,4 %, cuatro d\\u00e9cimas m\\u00e1s de la que presenta doce d\\u00edas despu\\u00e9s.               De igual forma, uno de cada cuatro pacientes en ucis, que en todo el territorio ascienden a 846, est\\u00e1n en Madrid, que registra 218, mientras que Catalu\\u00f1a tiene a 160.               Adaya Gonz\\u00e1lez         Etiquetas  \\u00a0\\u00a0/\\u00a0\\u00a0 Sociedad\"}\n"
          ]
        }
      ]
    },
    {
      "cell_type": "code",
      "source": [
        "# limpieza adicional para obtener los \"textos\" de cada noticia, sin incluir los titulares\n",
        "textos = []\n",
        "\n",
        "for titular in data_list:\n",
        "  # print(titular)\n",
        "  json_titular = json.loads(titular)\n",
        "  textos.append(json_titular[\"texto\"])"
      ],
      "metadata": {
        "id": "f0tkoy4TKvuw"
      },
      "execution_count": 22,
      "outputs": []
    },
    {
      "cell_type": "markdown",
      "source": [
        "La lista ya cuenta con **5658 registros**, los cuales se importarán en el DataFrame en los siguientes pasos."
      ],
      "metadata": {
        "id": "4M0mbUPLtCf_"
      }
    },
    {
      "cell_type": "code",
      "source": [
        "len(textos)"
      ],
      "metadata": {
        "colab": {
          "base_uri": "https://localhost:8080/"
        },
        "id": "12_KFdOrrxQv",
        "outputId": "a7a1b2f0-3651-4e15-cfc1-f54cd00c5333"
      },
      "execution_count": 23,
      "outputs": [
        {
          "output_type": "execute_result",
          "data": {
            "text/plain": [
              "5658"
            ]
          },
          "metadata": {},
          "execution_count": 23
        }
      ]
    },
    {
      "cell_type": "code",
      "source": [
        "# ejemplo del 1er texto\n",
        "print(textos[0])"
      ],
      "metadata": {
        "colab": {
          "base_uri": "https://localhost:8080/"
        },
        "id": "rqfMN2QYrzpk",
        "outputId": "0b697eaf-972b-4b25-a354-a8149deb3c23"
      },
      "execution_count": 24,
      "outputs": [
        {
          "output_type": "stream",
          "name": "stdout",
          "text": [
            "\"España ha dejado de ser católica\", decía Manuel Azaña al comienzo de la Segunda República, cuando aquel Congreso de los Diputados aprobó las leyes laicistas. Era una metáfora, dejó de ser católica sobre el papel de la ley, pero no en las creencias de buena parte de su pueblo.                  Contra la migración y la integración europea: el programa de Vox para Europa Saber más           España, este domingo 10 de noviembre, ha dejado de ser una excepción en Europa por la potencia de la extrema derecha en su Parlamento. Pero también es una metáfora, pues precisamente lo excepcional era tener una dictadura a mediados de los setenta y que el dictador aún estuviera en un mausoleo después de 40 años muerto: no existía tal cosa ni en Portugal, Grecia, Italia y Alemania, países de  dictaduras fascistas.                   Pero en España, como sí pasó en Portugal, Italia y Alemania, no se derrotó al fascismo, el franquismo murió en la cama y con el harakiri de las Cortes franquistas; no hubo una ruptura de régimen, sino una reforma; no nació un nuevo país, sino que el país mutó de la ley a la ley. Y, aun así, España parecía vacunada, como si 40 años de franquismo hubieran sido bastantes... hasta que ha llegado la irrupción del posfranquismo tras ser actores fundamentales para los gobiernos autonómicos y locales de PP y Ciudadanos.               España ha dejado de ser una excepción porque, aunque la Alianza Popular de Manuel Fraga bebiera del franquismo sociológico y la Fuerza Nueva de Blas Piñar del búnker franquista; aunque ese franquismo sociológico se mantuviera en el PP a lo largo de los tiempos; aunque Vox sea una escisión del propio PP... Aunque todo esto sea así, lo cierto es que nunca hasta ahora en España desde la reinstauración democrática ha existido una fuerza de extrema derecha con el 15% de los votos y 52 escaños. Un fenómeno que sí ha pasado y está pasando en otros países europeos, aunque en ellos no opere como en España la polarización del eje nacional por la crisis con Catalunya.                  Por ejemplo, los mejores amigos de Vox en Europa –en el grupo ECR del Parlamento Europeo– son el partido gobernante ultracatólico polaco PiS, que supera el 45% de los votos. Los principales referentes de la extrema derecha europea, Marine Le Pen y Matteo Salvini, que se han apresurado a felicitar a Santiago Abascal, presentan unos números muy superiores a los de Vox: Le Pen sacó un 24% en las últimas europeas; y Salvini, un 35%. O la extrema derecha austriaca (FPÖ), que sacó hace mes y medio un 26% en las legislativas, incluso después de la crisis de la financiación rusa.                         En ese eje amplio de la extrema derecha europea se suele situar también a los gobernantes húngaros, al Fidesz de Víktor Orban. Suspendidos en el Partido Popular Europeo, a cuyo grupo parlamentario en la Eurocámara siguen perteneciendo, lograron un 52% en mayo pasado.                En efecto, Vox, aún, está en otro escalón. Pero es un escalón que ya le deja por encima de clásicos de la extrema derecha europea, como los alemanes de la AfD –subcampeones en algunos länder alemanes, pero que en mayo se quedaron en el 11%, por debajo del 12,6% de las generales de 2017–. O por encima de los que Geert Wilders sacó en 2017 en las legislativas holandesas (un 13%, antes de despeñarse en las europeas de 2019 con menos del 4%).                   Así, Vox llega al 15% que lograron los Demócratas de Suecia en las europeas, dos puntos menos que en las generales de septiembre de 2018. Y más que duplica al 6,7% que sumaron Solución Griega y Aurora Dorada en las elecciones de Grecia de julio pasado. Pero a dos puntos del Partido de los Finlandesas, que con el 17,4% se quedó a tres décimas de ganar las elecciones finlandesas en abril pasado.         Etiquetas    /   Internacional   /   Vox   /   extrema derecha   /   Europa\n"
          ]
        }
      ]
    },
    {
      "cell_type": "code",
      "source": [
        "# ejemplo del último texto\n",
        "print(textos[len(textos)-1])"
      ],
      "metadata": {
        "colab": {
          "base_uri": "https://localhost:8080/"
        },
        "id": "iNQ8bFkBr5j0",
        "outputId": "faaaa8ff-e9c2-4d62-cf6a-e9ea5270e09e"
      },
      "execution_count": 25,
      "outputs": [
        {
          "output_type": "stream",
          "name": "stdout",
          "text": [
            "Madrid, 1 sep (EFE).- Finalmente, septiembre ha arrancado muy alejado del bajo nivel de transmisión que permitiría volver a la actividad con algo más de calma, una expectativa que se ha truncado especialmente en Madrid, comunidad que acumula un tercio de los casos y el 42 % de las muertes de las dos últimas semanas.                  Unos datos que han vuelto a levantar al Gobierno regional contra el responsable de las alertas sanitarias, Fernando Simón, en cuya defensa ha salido el presidente del Gobierno, Pedro Sánchez, quien ha admitido que hay inquietud en el Ejecutivo por la evolución de la pandemia en la Comunidad de Madrid.                  En su exposición habitual de los lunes, el director del Centro de Coordinación de Alertas y Emergencias Sanitarias (CCAES) aludió ayer a que \"una gran parte de los diagnósticos y las defunciones se deben fundamentalmente a una comunidad autónoma, la Comunidad de Madrid, lo cual no quita para que otras comunidades tengan también otros incrementos en los últimos días, como Andalucía\".               Palabras que no gustaron a la presidenta regional, Isabel Díaz Ayuso, que utilizó su perfil de Twitter para reprochar al epidemiólogo sus aseveraciones con el siguiente mensaje: \"Este ensañamiento con Madrid es injusto, desproporcionado y perjudicial para España. Si Madrid no se reactiva, España se hunde\".                  Aunque hoy ha agradecido al jefe del Ejecutivo, \"la preocupación que siente el presidente @sanchezcastejon por Madrid. Aprovecho para volver a pedirle la reunión que no me ha concedido en 12 meses\", según ha escrito en la misma red social.               LAS CIFRAS DE LA DISCORDIA               Julio cerró con 288.522 casos confirmados mediante PCR. Agosto lo hace con 462.858, lo que supone 174.336 nuevos contagios, de los que 49.912 corresponden a la Comunidad de Madrid, un 28,62 %. Le sigue Cataluña con 30.693 casos, un 17,6 % de los registrados este mes.                  Cataluña y Aragón centraron todas las preocupaciones de las autoridades sanitarias durante el mes de julio y parte de agosto debido principalmente a los brotes asociados a los temporeros, pero también por la transmisión detectada en el área metropolitana de Barcelona.               Aragón lideró durante semanas las cifras de nuevos contagios, llegando a acumular durante días una incidencia superior a los 560 casos por cada 100.000 habitantes durante toda la primera mitad de agosto, aunque ha ido logrando rebajarla hasta los 280 que presentaba ayer, mientras que Cataluña se ha estado moviendo en una horquilla de entre 136 y el máximo de 180 de este lunes.               Camino inverso al de Aragón ha seguido la de Madrid, donde la incidencia a 14 días ha ido creciendo progresivamente desde los 44 positivos por cada 100.000 habitantes que presentaba el 31 de julio a los 233 que registró el día 17 de agosto.                  UN TERCIO DE LOS CASOS Y CUATRO DE CADA DIEZ MUERTES               En estas dos semanas, la Comunidad ha duplicado su incidencia hasta los 464 casos por cada 100.000 habitantes, lo que supone también el doble de toda la tasa nacional, que se eleva a 205; de los 96.654 positivos confirmados en toda España, un tercio (30.959), corresponden a la autonomía madrileña.               Así se desprende del último informe de ayer por la tarde que el Ministerio de Sanidad elabora diariamente con los datos que le proporcionan las propias comunidades, y según el cual, este fin de semana se han detectado 23.572 contagios, un tercio de ellos (7.457) en Madrid, que concentró más del doble que los comunicados por Cataluña (3.206) y el triple que el País Vasco (2.429).                  La proporción es aún mayor en el caso de las víctimas mortales, ya que de las 266 personas con covid que han muerto en este periodo, 123 de ellas (un 42 %) han perdido la vida en la comunidad madrileña. La cifra se recrudece aún más en los últimos siete días: en Madrid han muerto 66 de los 141 fallecidos contabilizados, un 46 %.               El 24 de agosto fue el más siniestro del verano, con 31 defunciones registradas en toda España; Madrid comunicó 14 de ellas, las mismas que había notificado el día anterior, cuando se produjeron un total de 28 decesos en nuestro país.               EL 30 % DE LOS HOSPITALIZADOS Y EL 25 % DE LOS INGRESOS EN UCI               Los hospitales españoles tenían hasta las 15:30 horas de ayer a 6.957 pacientes ingresados con coronavirus, 2.128 de ellos en centros madrileños, un 30,5 % del total y más de un millar más que Cataluña, que tiene 1.076.               En 24 horas fueron ingresadas en la región madrileña 221 de los 750 personas hospitalizadas en España; así, tiene ya un 16 % de sus camas ocupadas por enfermos covid frente al 6 % de media nacional, cuando hace menos de dos semanas, el 20 de agosto, la tasa era del 9,5 %, muy por debajo de la de Aragón, que era del 13,4 %, cuatro décimas más de la que presenta doce días después.               De igual forma, uno de cada cuatro pacientes en ucis, que en todo el territorio ascienden a 846, están en Madrid, que registra 218, mientras que Cataluña tiene a 160.               Adaya González         Etiquetas    /   Sociedad\n"
          ]
        }
      ]
    },
    {
      "cell_type": "code",
      "source": [
        "# crear dataframe de textos\n",
        "df = pd.DataFrame(textos)\n",
        "df.columns = ['noticia']\n",
        "df.head()"
      ],
      "metadata": {
        "colab": {
          "base_uri": "https://localhost:8080/",
          "height": 206
        },
        "id": "wWIshr-2sRLw",
        "outputId": "98eeabda-bd33-44b2-cee7-605b40c4a0ba"
      },
      "execution_count": 26,
      "outputs": [
        {
          "output_type": "execute_result",
          "data": {
            "text/plain": [
              "                                             noticia\n",
              "0  \"España ha dejado de ser católica\", decía Manu...\n",
              "1  El clima de crispación social en Ceuta ha lleg...\n",
              "2  El Gobierno ha alegado la suspensión de plazos...\n",
              "3  Puedes mandar tu pregunta, sugerencia o queja ...\n",
              "4  Panamá debe entregar esta semana a la Corte In..."
            ],
            "text/html": [
              "\n",
              "  <div id=\"df-4723b6ca-f1fe-4b3f-84ef-835e66b0b353\">\n",
              "    <div class=\"colab-df-container\">\n",
              "      <div>\n",
              "<style scoped>\n",
              "    .dataframe tbody tr th:only-of-type {\n",
              "        vertical-align: middle;\n",
              "    }\n",
              "\n",
              "    .dataframe tbody tr th {\n",
              "        vertical-align: top;\n",
              "    }\n",
              "\n",
              "    .dataframe thead th {\n",
              "        text-align: right;\n",
              "    }\n",
              "</style>\n",
              "<table border=\"1\" class=\"dataframe\">\n",
              "  <thead>\n",
              "    <tr style=\"text-align: right;\">\n",
              "      <th></th>\n",
              "      <th>noticia</th>\n",
              "    </tr>\n",
              "  </thead>\n",
              "  <tbody>\n",
              "    <tr>\n",
              "      <th>0</th>\n",
              "      <td>\"España ha dejado de ser católica\", decía Manu...</td>\n",
              "    </tr>\n",
              "    <tr>\n",
              "      <th>1</th>\n",
              "      <td>El clima de crispación social en Ceuta ha lleg...</td>\n",
              "    </tr>\n",
              "    <tr>\n",
              "      <th>2</th>\n",
              "      <td>El Gobierno ha alegado la suspensión de plazos...</td>\n",
              "    </tr>\n",
              "    <tr>\n",
              "      <th>3</th>\n",
              "      <td>Puedes mandar tu pregunta, sugerencia o queja ...</td>\n",
              "    </tr>\n",
              "    <tr>\n",
              "      <th>4</th>\n",
              "      <td>Panamá debe entregar esta semana a la Corte In...</td>\n",
              "    </tr>\n",
              "  </tbody>\n",
              "</table>\n",
              "</div>\n",
              "      <button class=\"colab-df-convert\" onclick=\"convertToInteractive('df-4723b6ca-f1fe-4b3f-84ef-835e66b0b353')\"\n",
              "              title=\"Convert this dataframe to an interactive table.\"\n",
              "              style=\"display:none;\">\n",
              "        \n",
              "  <svg xmlns=\"http://www.w3.org/2000/svg\" height=\"24px\"viewBox=\"0 0 24 24\"\n",
              "       width=\"24px\">\n",
              "    <path d=\"M0 0h24v24H0V0z\" fill=\"none\"/>\n",
              "    <path d=\"M18.56 5.44l.94 2.06.94-2.06 2.06-.94-2.06-.94-.94-2.06-.94 2.06-2.06.94zm-11 1L8.5 8.5l.94-2.06 2.06-.94-2.06-.94L8.5 2.5l-.94 2.06-2.06.94zm10 10l.94 2.06.94-2.06 2.06-.94-2.06-.94-.94-2.06-.94 2.06-2.06.94z\"/><path d=\"M17.41 7.96l-1.37-1.37c-.4-.4-.92-.59-1.43-.59-.52 0-1.04.2-1.43.59L10.3 9.45l-7.72 7.72c-.78.78-.78 2.05 0 2.83L4 21.41c.39.39.9.59 1.41.59.51 0 1.02-.2 1.41-.59l7.78-7.78 2.81-2.81c.8-.78.8-2.07 0-2.86zM5.41 20L4 18.59l7.72-7.72 1.47 1.35L5.41 20z\"/>\n",
              "  </svg>\n",
              "      </button>\n",
              "      \n",
              "  <style>\n",
              "    .colab-df-container {\n",
              "      display:flex;\n",
              "      flex-wrap:wrap;\n",
              "      gap: 12px;\n",
              "    }\n",
              "\n",
              "    .colab-df-convert {\n",
              "      background-color: #E8F0FE;\n",
              "      border: none;\n",
              "      border-radius: 50%;\n",
              "      cursor: pointer;\n",
              "      display: none;\n",
              "      fill: #1967D2;\n",
              "      height: 32px;\n",
              "      padding: 0 0 0 0;\n",
              "      width: 32px;\n",
              "    }\n",
              "\n",
              "    .colab-df-convert:hover {\n",
              "      background-color: #E2EBFA;\n",
              "      box-shadow: 0px 1px 2px rgba(60, 64, 67, 0.3), 0px 1px 3px 1px rgba(60, 64, 67, 0.15);\n",
              "      fill: #174EA6;\n",
              "    }\n",
              "\n",
              "    [theme=dark] .colab-df-convert {\n",
              "      background-color: #3B4455;\n",
              "      fill: #D2E3FC;\n",
              "    }\n",
              "\n",
              "    [theme=dark] .colab-df-convert:hover {\n",
              "      background-color: #434B5C;\n",
              "      box-shadow: 0px 1px 3px 1px rgba(0, 0, 0, 0.15);\n",
              "      filter: drop-shadow(0px 1px 2px rgba(0, 0, 0, 0.3));\n",
              "      fill: #FFFFFF;\n",
              "    }\n",
              "  </style>\n",
              "\n",
              "      <script>\n",
              "        const buttonEl =\n",
              "          document.querySelector('#df-4723b6ca-f1fe-4b3f-84ef-835e66b0b353 button.colab-df-convert');\n",
              "        buttonEl.style.display =\n",
              "          google.colab.kernel.accessAllowed ? 'block' : 'none';\n",
              "\n",
              "        async function convertToInteractive(key) {\n",
              "          const element = document.querySelector('#df-4723b6ca-f1fe-4b3f-84ef-835e66b0b353');\n",
              "          const dataTable =\n",
              "            await google.colab.kernel.invokeFunction('convertToInteractive',\n",
              "                                                     [key], {});\n",
              "          if (!dataTable) return;\n",
              "\n",
              "          const docLinkHtml = 'Like what you see? Visit the ' +\n",
              "            '<a target=\"_blank\" href=https://colab.research.google.com/notebooks/data_table.ipynb>data table notebook</a>'\n",
              "            + ' to learn more about interactive tables.';\n",
              "          element.innerHTML = '';\n",
              "          dataTable['output_type'] = 'display_data';\n",
              "          await google.colab.output.renderOutput(dataTable, element);\n",
              "          const docLink = document.createElement('div');\n",
              "          docLink.innerHTML = docLinkHtml;\n",
              "          element.appendChild(docLink);\n",
              "        }\n",
              "      </script>\n",
              "    </div>\n",
              "  </div>\n",
              "  "
            ]
          },
          "metadata": {},
          "execution_count": 26
        }
      ]
    },
    {
      "cell_type": "markdown",
      "metadata": {
        "id": "8a1nAF6tf8J4"
      },
      "source": [
        "**2. Realiza un proceso de limpieza. Aplica el preprocesamiento que consideres adecuado para texto en\n",
        "español. Recuerda que el objetivo es identificar los tokens que describan mejor la distribución de\n",
        "cada tema.**"
      ]
    },
    {
      "cell_type": "code",
      "source": [
        "df.info()"
      ],
      "metadata": {
        "colab": {
          "base_uri": "https://localhost:8080/"
        },
        "id": "W-1whgAHtS9n",
        "outputId": "e1b2b0c6-cb22-4940-efa9-a2065da6cf14"
      },
      "execution_count": 27,
      "outputs": [
        {
          "output_type": "stream",
          "name": "stdout",
          "text": [
            "<class 'pandas.core.frame.DataFrame'>\n",
            "RangeIndex: 5658 entries, 0 to 5657\n",
            "Data columns (total 1 columns):\n",
            " #   Column   Non-Null Count  Dtype \n",
            "---  ------   --------------  ----- \n",
            " 0   noticia  5658 non-null   object\n",
            "dtypes: object(1)\n",
            "memory usage: 44.3+ KB\n"
          ]
        }
      ]
    },
    {
      "cell_type": "code",
      "source": [
        "# Análisis de stopwords\n",
        "\n",
        "import nltk\n",
        "from nltk.corpus import stopwords\n",
        "nltk.download('punkt')\n",
        "nltk.download('stopwords')"
      ],
      "metadata": {
        "colab": {
          "base_uri": "https://localhost:8080/"
        },
        "id": "QKIISWQa24JK",
        "outputId": "c4133664-b70a-4918-b263-4e0d8c1877ff"
      },
      "execution_count": 28,
      "outputs": [
        {
          "output_type": "stream",
          "name": "stderr",
          "text": [
            "[nltk_data] Downloading package punkt to /root/nltk_data...\n",
            "[nltk_data]   Unzipping tokenizers/punkt.zip.\n",
            "[nltk_data] Downloading package stopwords to /root/nltk_data...\n",
            "[nltk_data]   Unzipping corpora/stopwords.zip.\n"
          ]
        },
        {
          "output_type": "execute_result",
          "data": {
            "text/plain": [
              "True"
            ]
          },
          "metadata": {},
          "execution_count": 28
        }
      ]
    },
    {
      "cell_type": "code",
      "source": [
        "\n",
        "print(len(stopwords.words('spanish')))\n",
        "print(stopwords.words('spanish'))\n",
        "\n",
        "stopwordslist = stopwords.words('spanish').copy()\n"
      ],
      "metadata": {
        "colab": {
          "base_uri": "https://localhost:8080/"
        },
        "id": "ije9r-193DBm",
        "outputId": "9f8b3034-02a5-49fc-fb73-4f6cc7823571"
      },
      "execution_count": 29,
      "outputs": [
        {
          "output_type": "stream",
          "name": "stdout",
          "text": [
            "313\n",
            "['de', 'la', 'que', 'el', 'en', 'y', 'a', 'los', 'del', 'se', 'las', 'por', 'un', 'para', 'con', 'no', 'una', 'su', 'al', 'lo', 'como', 'más', 'pero', 'sus', 'le', 'ya', 'o', 'este', 'sí', 'porque', 'esta', 'entre', 'cuando', 'muy', 'sin', 'sobre', 'también', 'me', 'hasta', 'hay', 'donde', 'quien', 'desde', 'todo', 'nos', 'durante', 'todos', 'uno', 'les', 'ni', 'contra', 'otros', 'ese', 'eso', 'ante', 'ellos', 'e', 'esto', 'mí', 'antes', 'algunos', 'qué', 'unos', 'yo', 'otro', 'otras', 'otra', 'él', 'tanto', 'esa', 'estos', 'mucho', 'quienes', 'nada', 'muchos', 'cual', 'poco', 'ella', 'estar', 'estas', 'algunas', 'algo', 'nosotros', 'mi', 'mis', 'tú', 'te', 'ti', 'tu', 'tus', 'ellas', 'nosotras', 'vosotros', 'vosotras', 'os', 'mío', 'mía', 'míos', 'mías', 'tuyo', 'tuya', 'tuyos', 'tuyas', 'suyo', 'suya', 'suyos', 'suyas', 'nuestro', 'nuestra', 'nuestros', 'nuestras', 'vuestro', 'vuestra', 'vuestros', 'vuestras', 'esos', 'esas', 'estoy', 'estás', 'está', 'estamos', 'estáis', 'están', 'esté', 'estés', 'estemos', 'estéis', 'estén', 'estaré', 'estarás', 'estará', 'estaremos', 'estaréis', 'estarán', 'estaría', 'estarías', 'estaríamos', 'estaríais', 'estarían', 'estaba', 'estabas', 'estábamos', 'estabais', 'estaban', 'estuve', 'estuviste', 'estuvo', 'estuvimos', 'estuvisteis', 'estuvieron', 'estuviera', 'estuvieras', 'estuviéramos', 'estuvierais', 'estuvieran', 'estuviese', 'estuvieses', 'estuviésemos', 'estuvieseis', 'estuviesen', 'estando', 'estado', 'estada', 'estados', 'estadas', 'estad', 'he', 'has', 'ha', 'hemos', 'habéis', 'han', 'haya', 'hayas', 'hayamos', 'hayáis', 'hayan', 'habré', 'habrás', 'habrá', 'habremos', 'habréis', 'habrán', 'habría', 'habrías', 'habríamos', 'habríais', 'habrían', 'había', 'habías', 'habíamos', 'habíais', 'habían', 'hube', 'hubiste', 'hubo', 'hubimos', 'hubisteis', 'hubieron', 'hubiera', 'hubieras', 'hubiéramos', 'hubierais', 'hubieran', 'hubiese', 'hubieses', 'hubiésemos', 'hubieseis', 'hubiesen', 'habiendo', 'habido', 'habida', 'habidos', 'habidas', 'soy', 'eres', 'es', 'somos', 'sois', 'son', 'sea', 'seas', 'seamos', 'seáis', 'sean', 'seré', 'serás', 'será', 'seremos', 'seréis', 'serán', 'sería', 'serías', 'seríamos', 'seríais', 'serían', 'era', 'eras', 'éramos', 'erais', 'eran', 'fui', 'fuiste', 'fue', 'fuimos', 'fuisteis', 'fueron', 'fuera', 'fueras', 'fuéramos', 'fuerais', 'fueran', 'fuese', 'fueses', 'fuésemos', 'fueseis', 'fuesen', 'sintiendo', 'sentido', 'sentida', 'sentidos', 'sentidas', 'siente', 'sentid', 'tengo', 'tienes', 'tiene', 'tenemos', 'tenéis', 'tienen', 'tenga', 'tengas', 'tengamos', 'tengáis', 'tengan', 'tendré', 'tendrás', 'tendrá', 'tendremos', 'tendréis', 'tendrán', 'tendría', 'tendrías', 'tendríamos', 'tendríais', 'tendrían', 'tenía', 'tenías', 'teníamos', 'teníais', 'tenían', 'tuve', 'tuviste', 'tuvo', 'tuvimos', 'tuvisteis', 'tuvieron', 'tuviera', 'tuvieras', 'tuviéramos', 'tuvierais', 'tuvieran', 'tuviese', 'tuvieses', 'tuviésemos', 'tuvieseis', 'tuviesen', 'teniendo', 'tenido', 'tenida', 'tenidos', 'tenidas', 'tened']\n"
          ]
        }
      ]
    },
    {
      "cell_type": "code",
      "source": [
        "# limpieza y tokenización de comentarios\n",
        "\n",
        "def clean_tok(doc):\n",
        "\n",
        "  \n",
        "  doc = re.sub(r'\\s{2,}', ' ', doc.strip()) # Eliminemos espacios en blanco extras entre palabras o al inicio o final de cada frase.\n",
        "  doc = doc.replace(\"\\\"\",\"\")\n",
        "  doc = doc.replace(\",\",\"\") \n",
        "  doc = doc.replace(\".\",\"\") \n",
        "  doc = doc.replace(\";\",\"\")      \n",
        " \n",
        "  # no se eliminan las palabras acentuadas, ya que los acentos aparecen en los stopwords\n",
        "\n",
        "  # doc = doc.replace(\"á\",\"a\")\n",
        "  # doc = doc.replace(\"é\",\"e\")\n",
        "  # doc = doc.replace(\"í\",\"i\")\n",
        "  # doc = doc.replace(\"ó\",\"o\")\n",
        "  # doc = doc.replace(\"ú\",\"u\")\n",
        "  \n",
        "  # # doc = doc.replace(\"Á\",\"A\")\n",
        "  # doc = doc.replace(\"É\",\"E\")\n",
        "  # doc = doc.replace(\"Í\",\"I\")\n",
        "  # doc = doc.replace(\"Ó\",\"O\")\n",
        "  # doc = doc.replace(\"Ú\",\"U\")        \n",
        "\n",
        "   \n",
        "  doc = doc.lower().split() # se genera el spit de acuerdo a espacios y en minúsuculas \n",
        "  \n",
        "\n",
        "  tokens = []\n",
        "\n",
        "  for word in doc:\n",
        "    if word not in stopwordslist and len(word)>1: #incluir non-stopowrds y palabras mayor de mas de 1 caracter\n",
        "      tokens.append(word)\n",
        "\n",
        "  return tokens"
      ],
      "metadata": {
        "id": "KlgOkxwK3IRr"
      },
      "execution_count": 30,
      "outputs": []
    },
    {
      "cell_type": "code",
      "source": [
        "# Proceso de limpieza\n",
        "\n",
        "docs = df.noticia\n",
        "docscleantok = [clean_tok(noticia) for noticia in docs]\n"
      ],
      "metadata": {
        "id": "Y1whOTbR4Dbd"
      },
      "execution_count": 31,
      "outputs": []
    },
    {
      "cell_type": "code",
      "source": [
        "# tokenizacion\n",
        "\n",
        "# tokenizacion\n",
        "\n",
        "# from nltk.stem import SnowballStemmer\n",
        "\n",
        "# snow_stem = SnowballStemmer('spanish')\n",
        "\n",
        "# def clean_doc(doc):\n",
        "#   tokens = [snow_stem.stem(word) for word in doc] # proceso de limpieza 1\n",
        "#  return tokens\n",
        "\n",
        "# Aplicamos el proceso de limpieza/normalización:\n",
        "\n",
        "# docsclean = [clean_doc(x) for x in docsleantok]  \n",
        "\n",
        "# for x in docsclean[0:5]:\n",
        "#   print(x)"
      ],
      "metadata": {
        "id": "tMM-6OATMo9z"
      },
      "execution_count": 32,
      "outputs": []
    },
    {
      "cell_type": "code",
      "source": [
        "# Construcción del vocabulario\n",
        "from collections import Counter\n",
        "\n",
        "docsclean = docscleantok.copy()\n",
        "midiccionario = Counter()    \n",
        "\n",
        "for k in range(len(docsclean)):\n",
        "  midiccionario.update(docsclean[k])\n",
        "\n",
        "\n",
        "print('Longitud del diccionario:', len(midiccionario))  \n",
        "print('\\n(word,frequency):') \n",
        "print(midiccionario.most_common(10)) "
      ],
      "metadata": {
        "colab": {
          "base_uri": "https://localhost:8080/"
        },
        "id": "7aJBkrTvJXsg",
        "outputId": "2adb9c42-0738-44a0-d156-d87c45aab63b"
      },
      "execution_count": 33,
      "outputs": [
        {
          "output_type": "stream",
          "name": "stdout",
          "text": [
            "Longitud del diccionario: 142893\n",
            "\n",
            "(word,frequency):\n",
            "[('si', 10523), ('gobierno', 10197), ('años', 7299), ('dos', 7226), ('personas', 6986), ('ser', 6605), ('coronavirus', 6274), ('según', 5984), ('madrid', 5946), ('parte', 5935)]\n"
          ]
        }
      ]
    },
    {
      "cell_type": "code",
      "source": [
        "# Veamos la gráfica de palabras nuestro diccionario con base a la frecuencia de las palabras/tokens:\n",
        "\n",
        "import matplotlib.pyplot as plt\n",
        "\n",
        "plt.plot(list(np.arange(len(midiccionario))), list(midiccionario.values()), color='blue')\n",
        "plt.show()"
      ],
      "metadata": {
        "colab": {
          "base_uri": "https://localhost:8080/",
          "height": 430
        },
        "id": "ct_fPGLcJ44d",
        "outputId": "148ca12f-0df8-4e32-c771-640d595fd6c8"
      },
      "execution_count": 34,
      "outputs": [
        {
          "output_type": "display_data",
          "data": {
            "text/plain": [
              "<Figure size 640x480 with 1 Axes>"
            ],
            "image/png": "[encoded data removed]"
          },
          "metadata": {}
        }
      ]
    },
    {
      "cell_type": "markdown",
      "source": [
        "Aparecen palabras que se repiten muchas veces, pero se puede observar que existen palabras que no aportan mucho valor al vocabulario, como la palabra \"mas\", si\". Es necesario continuar limpiando el vocabulario, pero quizás no sea necesario eliminar los acentos ya que forma parte del lenguaje natural y los stopwords contienen acentos en algunos casos también."
      ],
      "metadata": {
        "id": "PS2dkBc0KD-5"
      }
    },
    {
      "cell_type": "code",
      "source": [
        "# eliminación manual de palabras repetitivas y que pudieran ser consideradas stopwords / que no agregan valor\n",
        "\n",
        "del midiccionario['mas']\n",
        "del midiccionario['si']\n",
        "del midiccionario['tambien']\n",
        "del midiccionario['dos']\n",
        "del midiccionario['tres']\n",
        "del midiccionario['cuatro']\n",
        "del midiccionario['cinco']\n",
        "del midiccionario['ser']\n",
        "del midiccionario['solo']\n",
        "del midiccionario['según']\n",
        "del midiccionario['parte']\n",
        "del midiccionario['cada']\n",
        "del midiccionario['años']\n",
        "del midiccionario['puede']\n",
        "del midiccionario['ahora']\n",
        "del midiccionario['tras']\n",
        "del midiccionario['hace']\n",
        "del midiccionario['sido']\n",
        "del midiccionario['aunque']\n",
        "del midiccionario['que']\n",
        "del midiccionario['que,']\n",
        "del midiccionario['hacer']\n",
        "del midiccionario['después']\n",
        "del midiccionario['así']\n",
        "del midiccionario['toda']\n",
        "del midiccionario['me']\n",
        "del midiccionario['do']\n"
      ],
      "metadata": {
        "id": "08nlZw5qKe-3"
      },
      "execution_count": 35,
      "outputs": []
    },
    {
      "cell_type": "code",
      "source": [
        "print(midiccionario.most_common(20)) "
      ],
      "metadata": {
        "colab": {
          "base_uri": "https://localhost:8080/"
        },
        "id": "qMNb2e2KKzX6",
        "outputId": "da4919e8-d9f5-4c8c-d401-146e950367f4"
      },
      "execution_count": 36,
      "outputs": [
        {
          "output_type": "stream",
          "name": "stdout",
          "text": [
            "[('gobierno', 10197), ('personas', 6986), ('coronavirus', 6274), ('madrid', 5946), ('españa', 5756), ('etiquetas', 5706), ('caso', 5317), ('pp', 4785), ('días', 4555), ('casos', 4540), ('política', 4497), ('día', 4120), ('además', 4097), ('trabajo', 3990), ('año', 3930), ('momento', 3926), ('partido', 3904), ('euros', 3775), ('país', 3766), ('vez', 3681)]\n"
          ]
        }
      ]
    },
    {
      "cell_type": "code",
      "source": [
        "# ajuste de frecuancia de vocabulario\n",
        "\n",
        "min_freq = 10\n",
        "\n",
        "midicc = {llave: valor for llave, valor in midiccionario.items() if valor > min_freq}\n",
        "\n",
        "\n",
        "print('Nueva longitud del nuevo vocabulario:', len(midicc))\n",
        "print(list(midicc.items())[0:5])     # veamos algunos elementos del diccionario."
      ],
      "metadata": {
        "colab": {
          "base_uri": "https://localhost:8080/"
        },
        "id": "T2yq3yN-J0TU",
        "outputId": "a8fd4442-4184-43dc-b83c-230354c9f09e"
      },
      "execution_count": 37,
      "outputs": [
        {
          "output_type": "stream",
          "name": "stdout",
          "text": [
            "Nueva longitud del nuevo vocabulario: 21536\n",
            "[('españa', 5756), ('dejado', 747), ('católica', 89), ('decía', 395), ('manuel', 884)]\n"
          ]
        }
      ]
    },
    {
      "cell_type": "markdown",
      "metadata": {
        "id": "tEf7ja3nf8hj"
      },
      "source": [
        "**3. ¿Por qué en este caso no requerimos hacer una partición en entrenamiento, validación y prueba?**\n",
        "\n",
        "Porque solo se analiza la frecuenia o relevancia de las palabras para encontrar un tópico, pero no existe una etiqueta a predecir como lo es en el aprendizaje supervisado. En este caso se esta buscando entender las palabras más cómunes para así construir los tópicos."
      ]
    },
    {
      "cell_type": "markdown",
      "metadata": {
        "id": "OeElRF4pf8n8"
      },
      "source": [
        "# Parte 1: Indexación semántica latente (LSI):"
      ]
    },
    {
      "cell_type": "markdown",
      "metadata": {
        "id": "q3vBK6QIf8ts"
      },
      "source": [
        "**4. Encontrar la matriz Tf-idf de la columna de noticias. Despliega los primeros 5 renglones con\n",
        "algunas de sus columnas con sus nombres, donde las columnas son los tokens.**"
      ]
    },
    {
      "cell_type": "code",
      "source": [
        "# filtrar palabras de acuerdo a definición del vocabulario y generación de strings de noticias\n",
        "\n",
        "\n",
        "docs_filtered = [] #lista de listas\n",
        "\n",
        "for noticia in docsclean:\n",
        "  docs_filtered.append([palabra for palabra in noticia if palabra in midicc])\n",
        "\n",
        "# generar lisa de comentarios con palabras filtradas (no lista de listas)\n",
        "\n",
        "ddf = []\n",
        "for k in range(len(docs_filtered)):\n",
        "  ddf.append(' '.join(docs_filtered[k]))\n",
        "\n",
        "# imprimir ejemplo\n",
        "\n",
        "for k in range(1):\n",
        "   print(ddf[k])"
      ],
      "metadata": {
        "colab": {
          "base_uri": "https://localhost:8080/"
        },
        "id": "tvqMo2m7HDFq",
        "outputId": "46a2f0bb-0816-445d-91f7-a4dc69c4d5cb"
      },
      "execution_count": 38,
      "outputs": [
        {
          "output_type": "stream",
          "name": "stdout",
          "text": [
            "españa dejado católica decía manuel azaña comienzo segunda república aquel congreso diputados aprobó leyes metáfora dejó católica papel ley creencias buena pueblo migración integración programa vox europa saber españa domingo 10 noviembre dejado excepción europa potencia extrema derecha parlamento metáfora pues precisamente excepcional tener dictadura mediados setenta dictador aún mausoleo 40 existía tal cosa portugal grecia italia alemania países dictaduras fascistas españa pasó portugal italia alemania fascismo franquismo murió cama cortes franquistas ruptura régimen sino reforma nació nuevo país sino país ley ley aun españa parecía 40 franquismo bastantes llegado irrupción actores fundamentales gobiernos autonómicos locales pp ciudadanos españa dejado excepción alianza popular manuel fraga franquismo fuerza nueva blas búnker franquista franquismo mantuviera pp largo tiempos vox escisión propio pp cierto nunca españa democrática existido fuerza extrema derecha 15% votos 52 escaños fenómeno pasado pasando países europeos españa polarización eje nacional crisis catalunya ejemplo mejores amigos vox europa –en grupo parlamento partido gobernante polaco supera 45% votos principales referentes extrema derecha europea marine pen salvini felicitar santiago abascal presentan números superiores vox: pen sacó 24% últimas europeas salvini 35% extrema derecha sacó mes medio 26% legislativas incluso crisis financiación rusa eje amplio extrema derecha europea suele situar gobernantes suspendidos partido popular europeo cuyo grupo parlamentario eurocámara siguen lograron 52% mayo pasado efecto vox aún escalón escalón deja encima clásicos extrema derecha europea alemanes alemanes mayo quedaron 11% debajo 126% generales encima sacó 2017 legislativas (un 13% europeas 2019 menos vox llega 15% lograron demócratas suecia europeas puntos menos generales septiembre 2018 duplica 67% sumaron solución griega aurora dorada elecciones grecia julio pasado puntos partido quedó décimas ganar elecciones abril pasado etiquetas internacional vox extrema derecha europa\n"
          ]
        }
      ]
    },
    {
      "cell_type": "markdown",
      "source": [
        "##Generar matriz Tf-idf a partir de documentos pre-procesados"
      ],
      "metadata": {
        "id": "j1WKSiG2xq4O"
      }
    },
    {
      "cell_type": "code",
      "source": [
        "# Obtenemos nuestro vocabulario de tokens/palabras.\n",
        "\n",
        "mivocab = list(midicc.keys())     \n",
        "\n",
        "# importar librería\n",
        "\n",
        "from sklearn.feature_extraction.text import TfidfVectorizer \n",
        "\n",
        "# generar instancia de la clase TfidfVecotrizar\n",
        "\n",
        "tfidf = TfidfVectorizer(vocabulary=mivocab) # explirar métodos de vectorizer para mejorar transformaciones\n",
        "\n",
        "# fit transform al objeto previo con los datos analizados de midicc y recibiendo los docuemtnos \"ddf\" como input\n",
        "\n",
        "tfidf_sparse = tfidf.fit_transform(ddf) \n",
        "\n",
        "# generar features names con el método get_feature_names_out\n",
        "\n",
        "tfid_features = tfidf.get_feature_names_out()\n",
        "\n",
        "tfidf_dense = pd.DataFrame( data = tfidf_sparse.toarray(),  columns = tfid_features)  \n",
        "\n",
        "print(tfidf_dense.iloc[0:6,5:16]) "
      ],
      "metadata": {
        "colab": {
          "base_uri": "https://localhost:8080/"
        },
        "id": "stO1939qHuhA",
        "outputId": "b2fe574f-6eb7-4dce-f86f-3e7d9818ea96"
      },
      "execution_count": 39,
      "outputs": [
        {
          "output_type": "stream",
          "name": "stdout",
          "text": [
            "      azaña  comienzo   segunda  república     aquel  congreso  diputados  \\\n",
            "0  0.076672  0.045269  0.029751   0.045478  0.036357  0.032018   0.038315   \n",
            "1  0.000000  0.000000  0.000000   0.000000  0.000000  0.000000   0.078399   \n",
            "2  0.000000  0.000000  0.000000   0.000000  0.000000  0.000000   0.000000   \n",
            "3  0.000000  0.000000  0.000000   0.000000  0.000000  0.000000   0.000000   \n",
            "4  0.000000  0.000000  0.000000   0.000000  0.000000  0.000000   0.000000   \n",
            "5  0.000000  0.000000  0.000000   0.000000  0.000000  0.000000   0.000000   \n",
            "\n",
            "     aprobó     leyes  metáfora      dejó  \n",
            "0  0.043381  0.045478  0.129702  0.038183  \n",
            "1  0.000000  0.000000  0.000000  0.000000  \n",
            "2  0.000000  0.000000  0.000000  0.000000  \n",
            "3  0.000000  0.000000  0.000000  0.000000  \n",
            "4  0.000000  0.000000  0.000000  0.000000  \n",
            "5  0.000000  0.000000  0.000000  0.000000  \n"
          ]
        }
      ]
    },
    {
      "cell_type": "code",
      "source": [
        "# ejemplo del dataframe\n",
        "tfidf_dense.head()"
      ],
      "metadata": {
        "colab": {
          "base_uri": "https://localhost:8080/",
          "height": 235
        },
        "id": "R9B-jouHzLnZ",
        "outputId": "5d2cdad6-0210-4bea-fcd2-6b9176ae236d"
      },
      "execution_count": 40,
      "outputs": [
        {
          "output_type": "execute_result",
          "data": {
            "text/plain": [
              "     españa    dejado  católica    decía    manuel     azaña  comienzo  \\\n",
              "0  0.142903  0.099562  0.116255  0.04014  0.069081  0.076672  0.045269   \n",
              "1  0.010443  0.000000  0.000000  0.00000  0.000000  0.000000  0.000000   \n",
              "2  0.015639  0.000000  0.000000  0.00000  0.000000  0.000000  0.000000   \n",
              "3  0.000000  0.000000  0.000000  0.00000  0.017458  0.000000  0.000000   \n",
              "4  0.000000  0.000000  0.000000  0.00000  0.000000  0.000000  0.000000   \n",
              "\n",
              "    segunda  república     aquel  ...  amsur  trova  heeney  fonsi  aine  \\\n",
              "0  0.029751   0.045478  0.036357  ...    0.0    0.0     0.0    0.0   0.0   \n",
              "1  0.000000   0.000000  0.000000  ...    0.0    0.0     0.0    0.0   0.0   \n",
              "2  0.000000   0.000000  0.000000  ...    0.0    0.0     0.0    0.0   0.0   \n",
              "3  0.000000   0.000000  0.000000  ...    0.0    0.0     0.0    0.0   0.0   \n",
              "4  0.000000   0.000000  0.000000  ...    0.0    0.0     0.0    0.0   0.0   \n",
              "\n",
              "   gaiás  lactobacillus  zoilamérica  pentecostales  pentecostalismo  \n",
              "0    0.0            0.0          0.0            0.0              0.0  \n",
              "1    0.0            0.0          0.0            0.0              0.0  \n",
              "2    0.0            0.0          0.0            0.0              0.0  \n",
              "3    0.0            0.0          0.0            0.0              0.0  \n",
              "4    0.0            0.0          0.0            0.0              0.0  \n",
              "\n",
              "[5 rows x 21536 columns]"
            ],
            "text/html": [
              "\n",
              "  <div id=\"df-79497d2f-3172-4592-8916-cc54c03bf49d\">\n",
              "    <div class=\"colab-df-container\">\n",
              "      <div>\n",
              "<style scoped>\n",
              "    .dataframe tbody tr th:only-of-type {\n",
              "        vertical-align: middle;\n",
              "    }\n",
              "\n",
              "    .dataframe tbody tr th {\n",
              "        vertical-align: top;\n",
              "    }\n",
              "\n",
              "    .dataframe thead th {\n",
              "        text-align: right;\n",
              "    }\n",
              "</style>\n",
              "<table border=\"1\" class=\"dataframe\">\n",
              "  <thead>\n",
              "    <tr style=\"text-align: right;\">\n",
              "      <th></th>\n",
              "      <th>españa</th>\n",
              "      <th>dejado</th>\n",
              "      <th>católica</th>\n",
              "      <th>decía</th>\n",
              "      <th>manuel</th>\n",
              "      <th>azaña</th>\n",
              "      <th>comienzo</th>\n",
              "      <th>segunda</th>\n",
              "      <th>república</th>\n",
              "      <th>aquel</th>\n",
              "      <th>...</th>\n",
              "      <th>amsur</th>\n",
              "      <th>trova</th>\n",
              "      <th>heeney</th>\n",
              "      <th>fonsi</th>\n",
              "      <th>aine</th>\n",
              "      <th>gaiás</th>\n",
              "      <th>lactobacillus</th>\n",
              "      <th>zoilamérica</th>\n",
              "      <th>pentecostales</th>\n",
              "      <th>pentecostalismo</th>\n",
              "    </tr>\n",
              "  </thead>\n",
              "  <tbody>\n",
              "    <tr>\n",
              "      <th>0</th>\n",
              "      <td>0.142903</td>\n",
              "      <td>0.099562</td>\n",
              "      <td>0.116255</td>\n",
              "      <td>0.04014</td>\n",
              "      <td>0.069081</td>\n",
              "      <td>0.076672</td>\n",
              "      <td>0.045269</td>\n",
              "      <td>0.029751</td>\n",
              "      <td>0.045478</td>\n",
              "      <td>0.036357</td>\n",
              "      <td>...</td>\n",
              "      <td>0.0</td>\n",
              "      <td>0.0</td>\n",
              "      <td>0.0</td>\n",
              "      <td>0.0</td>\n",
              "      <td>0.0</td>\n",
              "      <td>0.0</td>\n",
              "      <td>0.0</td>\n",
              "      <td>0.0</td>\n",
              "      <td>0.0</td>\n",
              "      <td>0.0</td>\n",
              "    </tr>\n",
              "    <tr>\n",
              "      <th>1</th>\n",
              "      <td>0.010443</td>\n",
              "      <td>0.000000</td>\n",
              "      <td>0.000000</td>\n",
              "      <td>0.00000</td>\n",
              "      <td>0.000000</td>\n",
              "      <td>0.000000</td>\n",
              "      <td>0.000000</td>\n",
              "      <td>0.000000</td>\n",
              "      <td>0.000000</td>\n",
              "      <td>0.000000</td>\n",
              "      <td>...</td>\n",
              "      <td>0.0</td>\n",
              "      <td>0.0</td>\n",
              "      <td>0.0</td>\n",
              "      <td>0.0</td>\n",
              "      <td>0.0</td>\n",
              "      <td>0.0</td>\n",
              "      <td>0.0</td>\n",
              "      <td>0.0</td>\n",
              "      <td>0.0</td>\n",
              "      <td>0.0</td>\n",
              "    </tr>\n",
              "    <tr>\n",
              "      <th>2</th>\n",
              "      <td>0.015639</td>\n",
              "      <td>0.000000</td>\n",
              "      <td>0.000000</td>\n",
              "      <td>0.00000</td>\n",
              "      <td>0.000000</td>\n",
              "      <td>0.000000</td>\n",
              "      <td>0.000000</td>\n",
              "      <td>0.000000</td>\n",
              "      <td>0.000000</td>\n",
              "      <td>0.000000</td>\n",
              "      <td>...</td>\n",
              "      <td>0.0</td>\n",
              "      <td>0.0</td>\n",
              "      <td>0.0</td>\n",
              "      <td>0.0</td>\n",
              "      <td>0.0</td>\n",
              "      <td>0.0</td>\n",
              "      <td>0.0</td>\n",
              "      <td>0.0</td>\n",
              "      <td>0.0</td>\n",
              "      <td>0.0</td>\n",
              "    </tr>\n",
              "    <tr>\n",
              "      <th>3</th>\n",
              "      <td>0.000000</td>\n",
              "      <td>0.000000</td>\n",
              "      <td>0.000000</td>\n",
              "      <td>0.00000</td>\n",
              "      <td>0.017458</td>\n",
              "      <td>0.000000</td>\n",
              "      <td>0.000000</td>\n",
              "      <td>0.000000</td>\n",
              "      <td>0.000000</td>\n",
              "      <td>0.000000</td>\n",
              "      <td>...</td>\n",
              "      <td>0.0</td>\n",
              "      <td>0.0</td>\n",
              "      <td>0.0</td>\n",
              "      <td>0.0</td>\n",
              "      <td>0.0</td>\n",
              "      <td>0.0</td>\n",
              "      <td>0.0</td>\n",
              "      <td>0.0</td>\n",
              "      <td>0.0</td>\n",
              "      <td>0.0</td>\n",
              "    </tr>\n",
              "    <tr>\n",
              "      <th>4</th>\n",
              "      <td>0.000000</td>\n",
              "      <td>0.000000</td>\n",
              "      <td>0.000000</td>\n",
              "      <td>0.00000</td>\n",
              "      <td>0.000000</td>\n",
              "      <td>0.000000</td>\n",
              "      <td>0.000000</td>\n",
              "      <td>0.000000</td>\n",
              "      <td>0.000000</td>\n",
              "      <td>0.000000</td>\n",
              "      <td>...</td>\n",
              "      <td>0.0</td>\n",
              "      <td>0.0</td>\n",
              "      <td>0.0</td>\n",
              "      <td>0.0</td>\n",
              "      <td>0.0</td>\n",
              "      <td>0.0</td>\n",
              "      <td>0.0</td>\n",
              "      <td>0.0</td>\n",
              "      <td>0.0</td>\n",
              "      <td>0.0</td>\n",
              "    </tr>\n",
              "  </tbody>\n",
              "</table>\n",
              "<p>5 rows × 21536 columns</p>\n",
              "</div>\n",
              "      <button class=\"colab-df-convert\" onclick=\"convertToInteractive('df-79497d2f-3172-4592-8916-cc54c03bf49d')\"\n",
              "              title=\"Convert this dataframe to an interactive table.\"\n",
              "              style=\"display:none;\">\n",
              "        \n",
              "  <svg xmlns=\"http://www.w3.org/2000/svg\" height=\"24px\"viewBox=\"0 0 24 24\"\n",
              "       width=\"24px\">\n",
              "    <path d=\"M0 0h24v24H0V0z\" fill=\"none\"/>\n",
              "    <path d=\"M18.56 5.44l.94 2.06.94-2.06 2.06-.94-2.06-.94-.94-2.06-.94 2.06-2.06.94zm-11 1L8.5 8.5l.94-2.06 2.06-.94-2.06-.94L8.5 2.5l-.94 2.06-2.06.94zm10 10l.94 2.06.94-2.06 2.06-.94-2.06-.94-.94-2.06-.94 2.06-2.06.94z\"/><path d=\"M17.41 7.96l-1.37-1.37c-.4-.4-.92-.59-1.43-.59-.52 0-1.04.2-1.43.59L10.3 9.45l-7.72 7.72c-.78.78-.78 2.05 0 2.83L4 21.41c.39.39.9.59 1.41.59.51 0 1.02-.2 1.41-.59l7.78-7.78 2.81-2.81c.8-.78.8-2.07 0-2.86zM5.41 20L4 18.59l7.72-7.72 1.47 1.35L5.41 20z\"/>\n",
              "  </svg>\n",
              "      </button>\n",
              "      \n",
              "  <style>\n",
              "    .colab-df-container {\n",
              "      display:flex;\n",
              "      flex-wrap:wrap;\n",
              "      gap: 12px;\n",
              "    }\n",
              "\n",
              "    .colab-df-convert {\n",
              "      background-color: #E8F0FE;\n",
              "      border: none;\n",
              "      border-radius: 50%;\n",
              "      cursor: pointer;\n",
              "      display: none;\n",
              "      fill: #1967D2;\n",
              "      height: 32px;\n",
              "      padding: 0 0 0 0;\n",
              "      width: 32px;\n",
              "    }\n",
              "\n",
              "    .colab-df-convert:hover {\n",
              "      background-color: #E2EBFA;\n",
              "      box-shadow: 0px 1px 2px rgba(60, 64, 67, 0.3), 0px 1px 3px 1px rgba(60, 64, 67, 0.15);\n",
              "      fill: #174EA6;\n",
              "    }\n",
              "\n",
              "    [theme=dark] .colab-df-convert {\n",
              "      background-color: #3B4455;\n",
              "      fill: #D2E3FC;\n",
              "    }\n",
              "\n",
              "    [theme=dark] .colab-df-convert:hover {\n",
              "      background-color: #434B5C;\n",
              "      box-shadow: 0px 1px 3px 1px rgba(0, 0, 0, 0.15);\n",
              "      filter: drop-shadow(0px 1px 2px rgba(0, 0, 0, 0.3));\n",
              "      fill: #FFFFFF;\n",
              "    }\n",
              "  </style>\n",
              "\n",
              "      <script>\n",
              "        const buttonEl =\n",
              "          document.querySelector('#df-79497d2f-3172-4592-8916-cc54c03bf49d button.colab-df-convert');\n",
              "        buttonEl.style.display =\n",
              "          google.colab.kernel.accessAllowed ? 'block' : 'none';\n",
              "\n",
              "        async function convertToInteractive(key) {\n",
              "          const element = document.querySelector('#df-79497d2f-3172-4592-8916-cc54c03bf49d');\n",
              "          const dataTable =\n",
              "            await google.colab.kernel.invokeFunction('convertToInteractive',\n",
              "                                                     [key], {});\n",
              "          if (!dataTable) return;\n",
              "\n",
              "          const docLinkHtml = 'Like what you see? Visit the ' +\n",
              "            '<a target=\"_blank\" href=https://colab.research.google.com/notebooks/data_table.ipynb>data table notebook</a>'\n",
              "            + ' to learn more about interactive tables.';\n",
              "          element.innerHTML = '';\n",
              "          dataTable['output_type'] = 'display_data';\n",
              "          await google.colab.output.renderOutput(dataTable, element);\n",
              "          const docLink = document.createElement('div');\n",
              "          docLink.innerHTML = docLinkHtml;\n",
              "          element.appendChild(docLink);\n",
              "        }\n",
              "      </script>\n",
              "    </div>\n",
              "  </div>\n",
              "  "
            ]
          },
          "metadata": {},
          "execution_count": 40
        }
      ]
    },
    {
      "cell_type": "markdown",
      "source": [
        "**¿Cuál es el significado de cada renglón? ¿Y el significado de cada columna?**\n",
        "\n",
        "Cada renglón es una noticia y cada columna es una palabra del vocabulario. El vocabulario es muy extenso ya que este se creó a partir de las 5658 noticias. El valor de obtenido nos dice que tan importante es la palabra para el vocabulario.\n"
      ],
      "metadata": {
        "id": "gyQ9ZVViH69-"
      }
    },
    {
      "cell_type": "markdown",
      "metadata": {
        "id": "Qp6iry9Kf8zR"
      },
      "source": [
        "**5. Aplica el método de descomposición de valores singulares truncado a la matriz Tf-idf anterior con\n",
        "10 componentes y obtener el gráfico de la importancia relativa de estas.**"
      ]
    },
    {
      "cell_type": "code",
      "source": [
        "from sklearn.decomposition import TruncatedSVD\n",
        "\n",
        "# definir la cantidad de componentes (tópicos)\n",
        "\n",
        "r = 10\n",
        "\n",
        "# create instancia de la clase TruncatedSVD\n",
        "\n",
        "svd_obj = TruncatedSVD( n_components = r ,n_iter = 100,random_state = 42)\n",
        "\n",
        "# fit_transform \n",
        "\n",
        "tfidf_lsi = svd_obj.fit_transform(tfidf_sparse)\n",
        "\n",
        "# sigma and V_transposed \n",
        "sigma = svd_obj.singular_values_\n",
        "\n",
        "V_T = svd_obj.components_.T\n",
        "\n"
      ],
      "metadata": {
        "id": "EPP_mKYkRuZg"
      },
      "execution_count": 41,
      "outputs": []
    },
    {
      "cell_type": "code",
      "source": [
        "sigma"
      ],
      "metadata": {
        "colab": {
          "base_uri": "https://localhost:8080/"
        },
        "id": "afiEZT5T4qP4",
        "outputId": "021c4e5b-1b7d-40ad-ac82-31cfda3d5a5c"
      },
      "execution_count": 42,
      "outputs": [
        {
          "output_type": "execute_result",
          "data": {
            "text/plain": [
              "array([13.92085905,  7.89196411,  6.29672736,  6.10170083,  5.79598872,\n",
              "        5.61558707,  5.24876583,  5.05657628,  4.96281164,  4.76614347])"
            ]
          },
          "metadata": {},
          "execution_count": 42
        }
      ]
    },
    {
      "cell_type": "code",
      "source": [
        "sigma.shape"
      ],
      "metadata": {
        "colab": {
          "base_uri": "https://localhost:8080/"
        },
        "id": "UXXksMM75mL_",
        "outputId": "e1a42a3c-9006-40fc-ef3e-151a7490fad7"
      },
      "execution_count": 43,
      "outputs": [
        {
          "output_type": "execute_result",
          "data": {
            "text/plain": [
              "(10,)"
            ]
          },
          "metadata": {},
          "execution_count": 43
        }
      ]
    },
    {
      "cell_type": "code",
      "source": [
        "V_T # columnas son los topics (n_terms X r)"
      ],
      "metadata": {
        "colab": {
          "base_uri": "https://localhost:8080/"
        },
        "id": "sZZNf8wk5PXU",
        "outputId": "be05ec6e-9a68-4c1c-d6ee-2c52f1585991"
      },
      "execution_count": 44,
      "outputs": [
        {
          "output_type": "execute_result",
          "data": {
            "text/plain": [
              "array([[ 9.11746139e-02,  1.11196487e-02, -2.99359925e-02, ...,\n",
              "         4.44740113e-02, -6.04054385e-02,  8.51423737e-02],\n",
              "       [ 2.02036363e-02,  1.16804248e-04,  1.21664982e-03, ...,\n",
              "         3.35402880e-02,  4.46531135e-03, -4.21518608e-03],\n",
              "       [ 2.61656938e-03, -2.17211653e-03, -4.14693962e-03, ...,\n",
              "         6.03718486e-05,  8.37818129e-04, -1.42202179e-04],\n",
              "       ...,\n",
              "       [ 2.82070186e-04, -2.85729711e-04, -1.27249250e-03, ...,\n",
              "         1.63727525e-04,  4.01587993e-04, -1.04223787e-03],\n",
              "       [ 4.44505886e-04, -4.10971324e-04, -9.00172650e-04, ...,\n",
              "         1.34276314e-04, -7.85270299e-04,  4.13826403e-05],\n",
              "       [ 1.81094991e-04, -1.67432762e-04, -3.66737005e-04, ...,\n",
              "         5.47051649e-05, -3.19924937e-04,  1.68595942e-05]])"
            ]
          },
          "metadata": {},
          "execution_count": 44
        }
      ]
    },
    {
      "cell_type": "code",
      "source": [
        "V_T.shape # 10 topicos principales\n",
        "lsi_term_topic = V_T"
      ],
      "metadata": {
        "id": "ZNRz0QKD5d2G"
      },
      "execution_count": 45,
      "outputs": []
    },
    {
      "cell_type": "code",
      "source": [
        "len(mivocab)"
      ],
      "metadata": {
        "colab": {
          "base_uri": "https://localhost:8080/"
        },
        "id": "UdWfaUuA5uvn",
        "outputId": "ec226cff-baac-444b-de00-7cdef05d9dcc"
      },
      "execution_count": 46,
      "outputs": [
        {
          "output_type": "execute_result",
          "data": {
            "text/plain": [
              "21536"
            ]
          },
          "metadata": {},
          "execution_count": 46
        }
      ]
    },
    {
      "cell_type": "code",
      "source": [
        "# conseguir nombre de los términos / tokens:\n",
        "\n",
        "term_names = list(tfidf.get_feature_names_out())\n",
        "print(term_names[0:5])\n",
        "\n"
      ],
      "metadata": {
        "colab": {
          "base_uri": "https://localhost:8080/"
        },
        "id": "_MYACEv36ykg",
        "outputId": "edd4457b-7caf-4146-9fe9-f5b771b44a05"
      },
      "execution_count": 70,
      "outputs": [
        {
          "output_type": "stream",
          "name": "stdout",
          "text": [
            "['españa', 'dejado', 'católica', 'decía', 'manuel']\n"
          ]
        },
        {
          "output_type": "stream",
          "name": "stderr",
          "text": [
            "/usr/local/lib/python3.10/dist-packages/ipykernel/ipkernel.py:283: DeprecationWarning: `should_run_async` will not call `transform_cell` automatically in the future. Please pass the result to `transformed_cell` argument and any exception that happen during thetransform in `preprocessing_exc_tuple` in IPython 7.17 and above.\n",
            "  and should_run_async(code)\n"
          ]
        }
      ]
    },
    {
      "cell_type": "markdown",
      "metadata": {
        "id": "2siHJEkmf84d"
      },
      "source": [
        "**6. Obtener la matriz tokens-temas (term-topic) a partir de la matriz 𝑉􀯍 de la descomposición SVD.\n",
        "Despliega sus primeros 5 renglones donde se incluya el nombre de las columnas.**"
      ]
    },
    {
      "cell_type": "code",
      "source": [
        "# lsi_term_topic tienes los 10 topics resultantes de la descomposición de valores\n",
        "\n",
        "term_topic_matrix = pd.DataFrame( data = lsi_term_topic\n",
        "                                 ,index = term_names\n",
        "                                 ,columns = [f'Concepto_Latente_{r}' for r in range(0,V_T.shape[1])]\n",
        "                                )\n",
        "\n",
        "print(term_topic_matrix.shape) #\n",
        "\n"
      ],
      "metadata": {
        "colab": {
          "base_uri": "https://localhost:8080/"
        },
        "id": "AIP5awiI7bU3",
        "outputId": "1a6d1178-aacf-4319-c8d2-f975145eae26"
      },
      "execution_count": 48,
      "outputs": [
        {
          "output_type": "stream",
          "name": "stdout",
          "text": [
            "(21536, 10)\n"
          ]
        }
      ]
    },
    {
      "cell_type": "code",
      "source": [
        "# esta es la matriz resultante, donde las filas son las palabras y las columnas son los \"conceptos latentes\"\n",
        "term_topic_matrix\n"
      ],
      "metadata": {
        "colab": {
          "base_uri": "https://localhost:8080/",
          "height": 423
        },
        "id": "OkbyoayJ8jiM",
        "outputId": "88103429-a670-42c0-fd29-a9ede5f8dc97"
      },
      "execution_count": 49,
      "outputs": [
        {
          "output_type": "execute_result",
          "data": {
            "text/plain": [
              "                 Concepto_Latente_0  Concepto_Latente_1  Concepto_Latente_2  \\\n",
              "españa                     0.091175            0.011120           -0.029936   \n",
              "dejado                     0.020204            0.000117            0.001217   \n",
              "católica                   0.002617           -0.002172           -0.004147   \n",
              "decía                      0.009986           -0.007106           -0.009716   \n",
              "manuel                     0.019466           -0.030177            0.010145   \n",
              "...                             ...                 ...                 ...   \n",
              "gaiás                      0.000491           -0.000525           -0.000535   \n",
              "lactobacillus              0.000260            0.000221           -0.000711   \n",
              "zoilamérica                0.000282           -0.000286           -0.001272   \n",
              "pentecostales              0.000445           -0.000411           -0.000900   \n",
              "pentecostalismo            0.000181           -0.000167           -0.000367   \n",
              "\n",
              "                 Concepto_Latente_3  Concepto_Latente_4  Concepto_Latente_5  \\\n",
              "españa                    -0.044750           -0.020232            0.025430   \n",
              "dejado                    -0.009114           -0.011550            0.000391   \n",
              "católica                   0.000041            0.001483            0.002993   \n",
              "decía                     -0.002889            0.001661            0.005949   \n",
              "manuel                    -0.015610            0.044415           -0.026076   \n",
              "...                             ...                 ...                 ...   \n",
              "gaiás                      0.000058           -0.000522            0.000552   \n",
              "lactobacillus              0.000111            0.000042            0.000228   \n",
              "zoilamérica                0.000232            0.000572            0.000994   \n",
              "pentecostales              0.000057           -0.000029            0.001094   \n",
              "pentecostalismo            0.000023           -0.000012            0.000446   \n",
              "\n",
              "                 Concepto_Latente_6  Concepto_Latente_7  Concepto_Latente_8  \\\n",
              "españa                     0.037290            0.044474           -0.060405   \n",
              "dejado                     0.010009            0.033540            0.004465   \n",
              "católica                  -0.001681            0.000060            0.000838   \n",
              "decía                     -0.011267            0.008228            0.000884   \n",
              "manuel                    -0.001482            0.006311           -0.016917   \n",
              "...                             ...                 ...                 ...   \n",
              "gaiás                     -0.000070           -0.001695           -0.000081   \n",
              "lactobacillus             -0.000541            0.000266           -0.000471   \n",
              "zoilamérica               -0.001437            0.000164            0.000402   \n",
              "pentecostales             -0.000593            0.000134           -0.000785   \n",
              "pentecostalismo           -0.000242            0.000055           -0.000320   \n",
              "\n",
              "                 Concepto_Latente_9  \n",
              "españa                     0.085142  \n",
              "dejado                    -0.004215  \n",
              "católica                  -0.000142  \n",
              "decía                     -0.008989  \n",
              "manuel                    -0.017459  \n",
              "...                             ...  \n",
              "gaiás                      0.000032  \n",
              "lactobacillus              0.000473  \n",
              "zoilamérica               -0.001042  \n",
              "pentecostales              0.000041  \n",
              "pentecostalismo            0.000017  \n",
              "\n",
              "[21536 rows x 10 columns]"
            ],
            "text/html": [
              "\n",
              "  <div id=\"df-7344dbc3-91fb-4b6c-91af-6274205503fc\">\n",
              "    <div class=\"colab-df-container\">\n",
              "      <div>\n",
              "<style scoped>\n",
              "    .dataframe tbody tr th:only-of-type {\n",
              "        vertical-align: middle;\n",
              "    }\n",
              "\n",
              "    .dataframe tbody tr th {\n",
              "        vertical-align: top;\n",
              "    }\n",
              "\n",
              "    .dataframe thead th {\n",
              "        text-align: right;\n",
              "    }\n",
              "</style>\n",
              "<table border=\"1\" class=\"dataframe\">\n",
              "  <thead>\n",
              "    <tr style=\"text-align: right;\">\n",
              "      <th></th>\n",
              "      <th>Concepto_Latente_0</th>\n",
              "      <th>Concepto_Latente_1</th>\n",
              "      <th>Concepto_Latente_2</th>\n",
              "      <th>Concepto_Latente_3</th>\n",
              "      <th>Concepto_Latente_4</th>\n",
              "      <th>Concepto_Latente_5</th>\n",
              "      <th>Concepto_Latente_6</th>\n",
              "      <th>Concepto_Latente_7</th>\n",
              "      <th>Concepto_Latente_8</th>\n",
              "      <th>Concepto_Latente_9</th>\n",
              "    </tr>\n",
              "  </thead>\n",
              "  <tbody>\n",
              "    <tr>\n",
              "      <th>españa</th>\n",
              "      <td>0.091175</td>\n",
              "      <td>0.011120</td>\n",
              "      <td>-0.029936</td>\n",
              "      <td>-0.044750</td>\n",
              "      <td>-0.020232</td>\n",
              "      <td>0.025430</td>\n",
              "      <td>0.037290</td>\n",
              "      <td>0.044474</td>\n",
              "      <td>-0.060405</td>\n",
              "      <td>0.085142</td>\n",
              "    </tr>\n",
              "    <tr>\n",
              "      <th>dejado</th>\n",
              "      <td>0.020204</td>\n",
              "      <td>0.000117</td>\n",
              "      <td>0.001217</td>\n",
              "      <td>-0.009114</td>\n",
              "      <td>-0.011550</td>\n",
              "      <td>0.000391</td>\n",
              "      <td>0.010009</td>\n",
              "      <td>0.033540</td>\n",
              "      <td>0.004465</td>\n",
              "      <td>-0.004215</td>\n",
              "    </tr>\n",
              "    <tr>\n",
              "      <th>católica</th>\n",
              "      <td>0.002617</td>\n",
              "      <td>-0.002172</td>\n",
              "      <td>-0.004147</td>\n",
              "      <td>0.000041</td>\n",
              "      <td>0.001483</td>\n",
              "      <td>0.002993</td>\n",
              "      <td>-0.001681</td>\n",
              "      <td>0.000060</td>\n",
              "      <td>0.000838</td>\n",
              "      <td>-0.000142</td>\n",
              "    </tr>\n",
              "    <tr>\n",
              "      <th>decía</th>\n",
              "      <td>0.009986</td>\n",
              "      <td>-0.007106</td>\n",
              "      <td>-0.009716</td>\n",
              "      <td>-0.002889</td>\n",
              "      <td>0.001661</td>\n",
              "      <td>0.005949</td>\n",
              "      <td>-0.011267</td>\n",
              "      <td>0.008228</td>\n",
              "      <td>0.000884</td>\n",
              "      <td>-0.008989</td>\n",
              "    </tr>\n",
              "    <tr>\n",
              "      <th>manuel</th>\n",
              "      <td>0.019466</td>\n",
              "      <td>-0.030177</td>\n",
              "      <td>0.010145</td>\n",
              "      <td>-0.015610</td>\n",
              "      <td>0.044415</td>\n",
              "      <td>-0.026076</td>\n",
              "      <td>-0.001482</td>\n",
              "      <td>0.006311</td>\n",
              "      <td>-0.016917</td>\n",
              "      <td>-0.017459</td>\n",
              "    </tr>\n",
              "    <tr>\n",
              "      <th>...</th>\n",
              "      <td>...</td>\n",
              "      <td>...</td>\n",
              "      <td>...</td>\n",
              "      <td>...</td>\n",
              "      <td>...</td>\n",
              "      <td>...</td>\n",
              "      <td>...</td>\n",
              "      <td>...</td>\n",
              "      <td>...</td>\n",
              "      <td>...</td>\n",
              "    </tr>\n",
              "    <tr>\n",
              "      <th>gaiás</th>\n",
              "      <td>0.000491</td>\n",
              "      <td>-0.000525</td>\n",
              "      <td>-0.000535</td>\n",
              "      <td>0.000058</td>\n",
              "      <td>-0.000522</td>\n",
              "      <td>0.000552</td>\n",
              "      <td>-0.000070</td>\n",
              "      <td>-0.001695</td>\n",
              "      <td>-0.000081</td>\n",
              "      <td>0.000032</td>\n",
              "    </tr>\n",
              "    <tr>\n",
              "      <th>lactobacillus</th>\n",
              "      <td>0.000260</td>\n",
              "      <td>0.000221</td>\n",
              "      <td>-0.000711</td>\n",
              "      <td>0.000111</td>\n",
              "      <td>0.000042</td>\n",
              "      <td>0.000228</td>\n",
              "      <td>-0.000541</td>\n",
              "      <td>0.000266</td>\n",
              "      <td>-0.000471</td>\n",
              "      <td>0.000473</td>\n",
              "    </tr>\n",
              "    <tr>\n",
              "      <th>zoilamérica</th>\n",
              "      <td>0.000282</td>\n",
              "      <td>-0.000286</td>\n",
              "      <td>-0.001272</td>\n",
              "      <td>0.000232</td>\n",
              "      <td>0.000572</td>\n",
              "      <td>0.000994</td>\n",
              "      <td>-0.001437</td>\n",
              "      <td>0.000164</td>\n",
              "      <td>0.000402</td>\n",
              "      <td>-0.001042</td>\n",
              "    </tr>\n",
              "    <tr>\n",
              "      <th>pentecostales</th>\n",
              "      <td>0.000445</td>\n",
              "      <td>-0.000411</td>\n",
              "      <td>-0.000900</td>\n",
              "      <td>0.000057</td>\n",
              "      <td>-0.000029</td>\n",
              "      <td>0.001094</td>\n",
              "      <td>-0.000593</td>\n",
              "      <td>0.000134</td>\n",
              "      <td>-0.000785</td>\n",
              "      <td>0.000041</td>\n",
              "    </tr>\n",
              "    <tr>\n",
              "      <th>pentecostalismo</th>\n",
              "      <td>0.000181</td>\n",
              "      <td>-0.000167</td>\n",
              "      <td>-0.000367</td>\n",
              "      <td>0.000023</td>\n",
              "      <td>-0.000012</td>\n",
              "      <td>0.000446</td>\n",
              "      <td>-0.000242</td>\n",
              "      <td>0.000055</td>\n",
              "      <td>-0.000320</td>\n",
              "      <td>0.000017</td>\n",
              "    </tr>\n",
              "  </tbody>\n",
              "</table>\n",
              "<p>21536 rows × 10 columns</p>\n",
              "</div>\n",
              "      <button class=\"colab-df-convert\" onclick=\"convertToInteractive('df-7344dbc3-91fb-4b6c-91af-6274205503fc')\"\n",
              "              title=\"Convert this dataframe to an interactive table.\"\n",
              "              style=\"display:none;\">\n",
              "        \n",
              "  <svg xmlns=\"http://www.w3.org/2000/svg\" height=\"24px\"viewBox=\"0 0 24 24\"\n",
              "       width=\"24px\">\n",
              "    <path d=\"M0 0h24v24H0V0z\" fill=\"none\"/>\n",
              "    <path d=\"M18.56 5.44l.94 2.06.94-2.06 2.06-.94-2.06-.94-.94-2.06-.94 2.06-2.06.94zm-11 1L8.5 8.5l.94-2.06 2.06-.94-2.06-.94L8.5 2.5l-.94 2.06-2.06.94zm10 10l.94 2.06.94-2.06 2.06-.94-2.06-.94-.94-2.06-.94 2.06-2.06.94z\"/><path d=\"M17.41 7.96l-1.37-1.37c-.4-.4-.92-.59-1.43-.59-.52 0-1.04.2-1.43.59L10.3 9.45l-7.72 7.72c-.78.78-.78 2.05 0 2.83L4 21.41c.39.39.9.59 1.41.59.51 0 1.02-.2 1.41-.59l7.78-7.78 2.81-2.81c.8-.78.8-2.07 0-2.86zM5.41 20L4 18.59l7.72-7.72 1.47 1.35L5.41 20z\"/>\n",
              "  </svg>\n",
              "      </button>\n",
              "      \n",
              "  <style>\n",
              "    .colab-df-container {\n",
              "      display:flex;\n",
              "      flex-wrap:wrap;\n",
              "      gap: 12px;\n",
              "    }\n",
              "\n",
              "    .colab-df-convert {\n",
              "      background-color: #E8F0FE;\n",
              "      border: none;\n",
              "      border-radius: 50%;\n",
              "      cursor: pointer;\n",
              "      display: none;\n",
              "      fill: #1967D2;\n",
              "      height: 32px;\n",
              "      padding: 0 0 0 0;\n",
              "      width: 32px;\n",
              "    }\n",
              "\n",
              "    .colab-df-convert:hover {\n",
              "      background-color: #E2EBFA;\n",
              "      box-shadow: 0px 1px 2px rgba(60, 64, 67, 0.3), 0px 1px 3px 1px rgba(60, 64, 67, 0.15);\n",
              "      fill: #174EA6;\n",
              "    }\n",
              "\n",
              "    [theme=dark] .colab-df-convert {\n",
              "      background-color: #3B4455;\n",
              "      fill: #D2E3FC;\n",
              "    }\n",
              "\n",
              "    [theme=dark] .colab-df-convert:hover {\n",
              "      background-color: #434B5C;\n",
              "      box-shadow: 0px 1px 3px 1px rgba(0, 0, 0, 0.15);\n",
              "      filter: drop-shadow(0px 1px 2px rgba(0, 0, 0, 0.3));\n",
              "      fill: #FFFFFF;\n",
              "    }\n",
              "  </style>\n",
              "\n",
              "      <script>\n",
              "        const buttonEl =\n",
              "          document.querySelector('#df-7344dbc3-91fb-4b6c-91af-6274205503fc button.colab-df-convert');\n",
              "        buttonEl.style.display =\n",
              "          google.colab.kernel.accessAllowed ? 'block' : 'none';\n",
              "\n",
              "        async function convertToInteractive(key) {\n",
              "          const element = document.querySelector('#df-7344dbc3-91fb-4b6c-91af-6274205503fc');\n",
              "          const dataTable =\n",
              "            await google.colab.kernel.invokeFunction('convertToInteractive',\n",
              "                                                     [key], {});\n",
              "          if (!dataTable) return;\n",
              "\n",
              "          const docLinkHtml = 'Like what you see? Visit the ' +\n",
              "            '<a target=\"_blank\" href=https://colab.research.google.com/notebooks/data_table.ipynb>data table notebook</a>'\n",
              "            + ' to learn more about interactive tables.';\n",
              "          element.innerHTML = '';\n",
              "          dataTable['output_type'] = 'display_data';\n",
              "          await google.colab.output.renderOutput(dataTable, element);\n",
              "          const docLink = document.createElement('div');\n",
              "          docLink.innerHTML = docLinkHtml;\n",
              "          element.appendChild(docLink);\n",
              "        }\n",
              "      </script>\n",
              "    </div>\n",
              "  </div>\n",
              "  "
            ]
          },
          "metadata": {},
          "execution_count": 49
        }
      ]
    },
    {
      "cell_type": "markdown",
      "metadata": {
        "id": "YKBHPlW5f89T"
      },
      "source": [
        "**7. Con base a la cantidad de conceptos latentes que determinaste en el ejercicio 6 anterior, obtener\n",
        "cada uno de sus gráficos con sus 10 términos/tokens más importantes. ¿Cómo describirías cada uno de dichos conceptos latentes?**"
      ]
    },
    {
      "cell_type": "markdown",
      "metadata": {
        "id": "YJLaLrm8f9DS"
      },
      "source": [
        "**8. Para cada uno de los 10 conceptos latentes obtenidos con la descomposición SVD del ejercicio 5,\n",
        "obtener el gráfico de barras que muestre los 10 términos/tokens más importantes de cada uno de\n",
        "ellos.**"
      ]
    },
    {
      "cell_type": "code",
      "source": [
        "import seaborn as sns"
      ],
      "metadata": {
        "id": "Q3BXeUFz_bg6"
      },
      "execution_count": 50,
      "outputs": []
    },
    {
      "cell_type": "markdown",
      "source": [
        "**Método principal para graficar**"
      ],
      "metadata": {
        "id": "rMShakqFuhTG"
      }
    },
    {
      "cell_type": "code",
      "source": [
        "def genera_topwords_matrix(concepto_latente,palabras):\n",
        "  \n",
        "  \"\"\"\n",
        "  concepto_latente string , es el \"nombre\" del concepto latente generado en el paso 6, respetando la forma en que fueron redactados previamente en la matriz para así poder graficar\n",
        "  palabras         int    , número de palabras \"top a graficar\"\n",
        "\n",
        "  \"\"\"\n",
        "\n",
        "  # ingresar data del concepto latente\n",
        "  data = term_topic_matrix[concepto_latente]\n",
        "\n",
        "  # ordenar los valores de forma ascendente para identificar la importancia de la palabra en el concepto latente\n",
        "  data = data.sort_values(ascending = False)  \n",
        "\n",
        "  # ingresar el número de palabras top a identificar\n",
        "  top_words = palabras \n",
        "  \n",
        "  # guardar los top \"valores obtenidos de la descomposición de valores\"\n",
        "  top_words_matrix = data[:top_words]\n",
        "\n",
        "  return top_words_matrix"
      ],
      "metadata": {
        "id": "N6FKQoFvH1yN"
      },
      "execution_count": 51,
      "outputs": []
    },
    {
      "cell_type": "code",
      "source": [
        "# generar lista de conceptos latentes\n",
        "\n",
        "conceptos = [f'Concepto_Latente_{r}' for r in range(0,V_T.shape[1])]\n",
        "\n",
        "# generar espacio para graficar\n",
        "\n",
        "plt.rcParams[\"figure.figsize\"] = [10, 10]\n",
        "plt.rcParams[\"figure.autolayout\"] = True\n",
        "f, axes = plt.subplots(5, 2)\n",
        "axes = axes.flatten()\n",
        "\n",
        "# definir la cantidad de topicos por concepto latente a analizar\n",
        "\n",
        "palabras = 10\n",
        "\n",
        "# agrgar títulos\n",
        "\n",
        "for i in range(len(conceptos)):\n",
        "  axes[i].set_title('Concepto_latente_'+str(i))\n",
        "\n",
        "# generar gráficos\n",
        "\n",
        "for concepto in conceptos:\n",
        "  sns.barplot( x = genera_topwords_matrix(concepto,palabras).values, y = genera_topwords_matrix(concepto,palabras).index, ax = axes[conceptos.index(concepto)])\n",
        "\n",
        "\n"
      ],
      "metadata": {
        "colab": {
          "base_uri": "https://localhost:8080/",
          "height": 1000
        },
        "id": "rnxKRbOkL_9p",
        "outputId": "444a3403-c5f5-4416-c49a-a8b5b9664a99"
      },
      "execution_count": 52,
      "outputs": [
        {
          "output_type": "display_data",
          "data": {
            "text/plain": [
              "<Figure size 1000x1000 with 10 Axes>"
            ],
            "image/png": "[encoded data removed]"
          },
          "metadata": {}
        }
      ]
    },
    {
      "cell_type": "markdown",
      "source": [
        "**Método adicional para graficar**"
      ],
      "metadata": {
        "id": "WyLbqESTub4g"
      }
    },
    {
      "cell_type": "code",
      "source": [
        "def grafica_concepto(concepto_latente,palabras):\n",
        "  \n",
        "  \"\"\"\n",
        "  concepto_latente string , respetando la forma en que fueron redactados previamente en la matrizx\n",
        "  palabras         int    , número de palabras \"top a graficar\"\n",
        "\n",
        "  \"\"\"\n",
        "\n",
        "  # ingresar data del concepto latente\n",
        "  data = term_topic_matrix[concepto_latente]\n",
        "\n",
        "  # ordenar los valores de forma ascendente para identificar la importancia de la palabra en el concepto latente\n",
        "  data = data.sort_values(ascending = False)  \n",
        "\n",
        "  # ingresar el número de palabras top a identificar\n",
        "  top_words = palabras \n",
        "  \n",
        "  # guardar los top \"valores obtenidos de la descomposición de valores\"\n",
        "  top_words_matrix = data[:top_words]\n",
        "\n",
        "  # plot\n",
        "  sns.set(rc ={'figure.figsize':(3,2)})\n",
        "  plt.title('Mejores términos / tokens del '+ concepto_latente)\n",
        "  fig = sns.barplot( x = top_words_matrix.values, y = top_words_matrix.index)\n",
        "\n",
        "\n"
      ],
      "metadata": {
        "id": "SpuIhT_U9IdP"
      },
      "execution_count": 53,
      "outputs": []
    },
    {
      "cell_type": "code",
      "source": [
        "# genera espacio para graficar \n",
        "\n",
        "plt.rcParams[\"figure.figsize\"] = [10, 10]\n",
        "plt.rcParams[\"figure.autolayout\"] = True\n",
        "f, axes = plt.subplots(5, 2)\n",
        "axes = axes.flatten()\n",
        "\n",
        "\n",
        "# definir la cantidad de topicos por concepto latente a analizar\n",
        "\n",
        "palabras = 10\n",
        "\n",
        "# agregar titulos\n",
        "\n",
        "axes[0].set_title('Concepto_latente_0')\n",
        "axes[1].set_title('Concepto_latente_1')\n",
        "axes[2].set_title('Concepto_latente_2')\n",
        "axes[3].set_title('Concepto_latente_3')\n",
        "axes[4].set_title('Concepto_latente_4')\n",
        "axes[5].set_title('Concepto_latente_5')\n",
        "axes[6].set_title('Concepto_latente_6')\n",
        "axes[7].set_title('Concepto_latente_7')\n",
        "axes[8].set_title('Concepto_latente_8')\n",
        "axes[9].set_title('Concepto_latente_9')\n",
        "\n",
        "# generar gráficos\n",
        "\n",
        "sns.barplot( x = genera_topwords_matrix('Concepto_Latente_0',palabras).values, y = genera_topwords_matrix('Concepto_Latente_0',palabras).index, ax = axes[0])\n",
        "sns.barplot( x = genera_topwords_matrix('Concepto_Latente_1',palabras).values, y = genera_topwords_matrix('Concepto_Latente_1',palabras).index, ax = axes[1])\n",
        "sns.barplot( x = genera_topwords_matrix('Concepto_Latente_2',palabras).values, y = genera_topwords_matrix('Concepto_Latente_2',palabras).index, ax = axes[2])\n",
        "sns.barplot( x = genera_topwords_matrix('Concepto_Latente_3',palabras).values, y = genera_topwords_matrix('Concepto_Latente_3',palabras).index, ax = axes[3])\n",
        "sns.barplot( x = genera_topwords_matrix('Concepto_Latente_4',palabras).values, y = genera_topwords_matrix('Concepto_Latente_4',palabras).index, ax = axes[4])\n",
        "sns.barplot( x = genera_topwords_matrix('Concepto_Latente_5',palabras).values, y = genera_topwords_matrix('Concepto_Latente_5',palabras).index, ax = axes[5])\n",
        "sns.barplot( x = genera_topwords_matrix('Concepto_Latente_6',palabras).values, y = genera_topwords_matrix('Concepto_Latente_6',palabras).index, ax = axes[6])\n",
        "sns.barplot( x = genera_topwords_matrix('Concepto_Latente_7',palabras).values, y = genera_topwords_matrix('Concepto_Latente_7',palabras).index, ax = axes[7])\n",
        "sns.barplot( x = genera_topwords_matrix('Concepto_Latente_8',palabras).values, y = genera_topwords_matrix('Concepto_Latente_8',palabras).index, ax = axes[8])\n",
        "sns.barplot( x = genera_topwords_matrix('Concepto_Latente_9',palabras).values, y = genera_topwords_matrix('Concepto_Latente_9',palabras).index, ax = axes[9])\n"
      ],
      "metadata": {
        "colab": {
          "base_uri": "https://localhost:8080/",
          "height": 1000
        },
        "id": "VnrJ6UCLEPwi",
        "outputId": "e5732f10-5f77-43b0-e83d-7109ac8e709c"
      },
      "execution_count": 54,
      "outputs": [
        {
          "output_type": "execute_result",
          "data": {
            "text/plain": [
              "<Axes: title={'center': 'Concepto_latente_9'}>"
            ]
          },
          "metadata": {},
          "execution_count": 54
        },
        {
          "output_type": "display_data",
          "data": {
            "text/plain": [
              "<Figure size 1000x1000 with 10 Axes>"
            ],
            "image/png": "[encoded data removed]"
          },
          "metadata": {}
        }
      ]
    },
    {
      "cell_type": "markdown",
      "metadata": {
        "id": "DRbInOFaf9It"
      },
      "source": [
        "**9. Con base a los resultados del ejercicio anterior, ¿cuántos tópicos o conceptos latentes identificas\n",
        "con claridad? ¿Cómo os describirías, es decir, de qué temáticas estarían hablando?**\n",
        "\n",
        "- La mayor parte de las palabras gira en torno a tópicos como: pandemia, economía, política, matrimonio y aparecen palabras recurrentes como: casos, covid10, datos, rebrotes, casado, municipios, empresas, rey.\n",
        "\n",
        "En diferentes tópicos se pudieran identificar los siguientes:\n",
        "  1. Coronavirus\n",
        "  2. gobierno\n",
        "  3. casos \n",
        "  4. pp\n",
        "  5. euskadi\n",
        "  6. villarejo\n",
        "  7. municipio\n",
        "  8. euros\n",
        "  9. máster\n",
        "  10. casado"
      ]
    },
    {
      "cell_type": "markdown",
      "metadata": {
        "id": "v1z4Tu_6f9N3"
      },
      "source": [
        "**10. La librería de código abierto Gensim, incluye la implementación de la técnica LSI. Ver\n",
        "documentación: https://radimrehurek.com/gensim/models/lsimodel.html**\n",
        "\n",
        "**Investiga la documentación de este modelo LSI en Gensim y aplica dicha técnica a tu conjunto de\n",
        "datos.**"
      ]
    },
    {
      "cell_type": "code",
      "source": [
        "# importación librerías\n",
        "\n",
        "from gensim.test.utils import common_dictionary, common_corpus, simple_preprocess\n",
        "from gensim.models import LsiModel,LdaModel\n",
        "from gensim.corpora import Dictionary\n",
        "import gensim.corpora as corpora\n",
        "from gensim.models.coherencemodel import CoherenceModel\n"
      ],
      "metadata": {
        "id": "Zk49DXhCljIj"
      },
      "execution_count": 55,
      "outputs": []
    },
    {
      "cell_type": "code",
      "source": [
        "# creación de diccionario \n",
        "\n",
        "# Este diccionario es necesario crearlo para trabajar con los métodos y clases de la librería de gensim\n",
        "\n",
        "gensim_dictionary = Dictionary(docs_filtered, prune_at=2500000)\n",
        "\n",
        "# Se genera el corpus de acuerdo al diccionario creado previamente\n",
        "\n",
        "gensim_corpus = [gensim_dictionary.doc2bow(doc) for doc in docs_filtered]"
      ],
      "metadata": {
        "id": "PfolcVCVnt36"
      },
      "execution_count": 56,
      "outputs": []
    },
    {
      "cell_type": "code",
      "source": [
        "# Generación del modelo LSI para 2-10 tópicos así como métricas de evaluación de Coherencia\n",
        "\n",
        "for i in range(2,11):\n",
        "  \n",
        "  lsi = LsiModel( gensim_corpus,\n",
        "                  num_topics = i,\n",
        "                  id2word = gensim_dictionary,\n",
        "                  # chunksize = 6,\n",
        "                  random_seed = 7 \n",
        "  )\n",
        "\n",
        "  cm = CoherenceModel( model = lsi,\n",
        "                       texts = docs_filtered,\n",
        "                       dictionary = gensim_dictionary,\n",
        "                       # window_size = 3, \n",
        "                       coherence = 'c_v',\n",
        "                       topn = 3\n",
        "  )\n",
        "\n",
        "  cs = cm.get_coherence()\n",
        "\n",
        "\n",
        "  print('Métrica de Coherencia con {} clusters: {}'.format(i,cs))\n"
      ],
      "metadata": {
        "colab": {
          "base_uri": "https://localhost:8080/"
        },
        "id": "OoOOnD_7zl9J",
        "outputId": "4a004ff3-20a9-44e9-fa89-6b0b15340363"
      },
      "execution_count": 57,
      "outputs": [
        {
          "output_type": "stream",
          "name": "stdout",
          "text": [
            "Métrica de Coherencia con 2 clusters: 0.6478955658174672\n",
            "Métrica de Coherencia con 3 clusters: 0.6566918310943303\n",
            "Métrica de Coherencia con 4 clusters: 0.6848366872750477\n",
            "Métrica de Coherencia con 5 clusters: 0.6842785722940666\n",
            "Métrica de Coherencia con 6 clusters: 0.6684061168127192\n",
            "Métrica de Coherencia con 7 clusters: 0.666796493969388\n",
            "Métrica de Coherencia con 8 clusters: 0.6521716208178797\n",
            "Métrica de Coherencia con 9 clusters: 0.6600616705246705\n",
            "Métrica de Coherencia con 10 clusters: 0.6821863995284175\n"
          ]
        }
      ]
    },
    {
      "cell_type": "code",
      "source": [
        " # seleccionando el mejor modelo\n",
        "\n",
        "lsi_selected = LsiModel( gensim_corpus,\n",
        "                  num_topics = 4,\n",
        "                  id2word = gensim_dictionary,\n",
        "                  # chunksize = 6,\n",
        "                  random_seed = 7 \n",
        ")\n",
        "\n",
        "for topic_num, words in   lsi_selected .print_topics(num_words = 4):\n",
        "  print('Tokens/words in Topic {}:{}'.format(topic_num,words))\n",
        "\n"
      ],
      "metadata": {
        "colab": {
          "base_uri": "https://localhost:8080/"
        },
        "id": "y20gleKuDlL2",
        "outputId": "b16e2d94-f009-44fe-f2a7-8100cac71825"
      },
      "execution_count": 58,
      "outputs": [
        {
          "output_type": "stream",
          "name": "stdout",
          "text": [
            "Tokens/words in Topic 0:0.250*\"gobierno\" + 0.174*\"personas\" + 0.168*\"coronavirus\" + 0.143*\"madrid\"\n",
            "Tokens/words in Topic 1:0.278*\"pp\" + -0.275*\"casos\" + -0.249*\"coronavirus\" + 0.206*\"partido\"\n",
            "Tokens/words in Topic 2:0.447*\"casos\" + 0.211*\"madrid\" + 0.195*\"número\" + 0.160*\"pp\"\n",
            "Tokens/words in Topic 3:0.315*\"gobierno\" + -0.221*\"casos\" + 0.194*\"pp\" + 0.192*\"madrid\"\n"
          ]
        }
      ]
    },
    {
      "cell_type": "markdown",
      "source": [
        " **En particular, obtener los modelos de 2 a 10 temas/tópicos y para cada uno de ellos obtener\n",
        "su valor (score) de coherencia. Con base a dichos valores, ¿qué cantidad de tópicos sería el\n",
        "adecuado? ¿Coincide con lo que obtuviste previamente, usando la técnica SVD de manera directa?¿qué cantidad de tópicos sería el adecuado? ¿Coincide con lo que obtuviste previamente, usando la técnica SVD de manera directa?**"
      ],
      "metadata": {
        "id": "xmHqlsCQ30TA"
      }
    },
    {
      "cell_type": "markdown",
      "source": [
        "Sí, son muy similares los tópicos de los que se está hablando, no son iguales pero se puede observar que son muy similares"
      ],
      "metadata": {
        "id": "128phErFESTd"
      }
    },
    {
      "cell_type": "markdown",
      "metadata": {
        "id": "NNk5u-yWf9T7"
      },
      "source": [
        "# Parte 2: Asignación de Dirichlet Latente (LDA):"
      ]
    },
    {
      "cell_type": "markdown",
      "metadata": {
        "id": "dBAsSNVAf9Zw"
      },
      "source": [
        "**11. Utiliza la librería Gensim para implementar ahora la técnica de LDA. Revisa la documentación\n",
        "correspondiente y aplica de preferencia el modelo paralelizable:**\n",
        "\n",
        "1. https://radimrehurek.com/gensim/models/ldamodel.html\n",
        "2. https://radimrehurek.com/gensim/models/ldamulticore.html\n",
        "\n"
      ]
    },
    {
      "cell_type": "code",
      "source": [
        "# NOTAS / COMENTARIOS:\n",
        "# se genera por \"factorización\" probabilística\n",
        "# LDA es más exacto por la base probabilítica, pero ambos modelos se complementan\n",
        "# no hay una solución tajante, son no supervisados y por lo tanto no son exactos\n",
        "# se puede generar en \"cascada\" para después encontrar otros niveles de información \"local, regional, etc\""
      ],
      "metadata": {
        "id": "J5IqkNM1jXK7"
      },
      "execution_count": 59,
      "outputs": []
    },
    {
      "cell_type": "code",
      "source": [
        "# el corpus ya está generado en gensim_corpus\n",
        "\n",
        "gensim_corpus = [gensim_dictionary.doc2bow(doc) for doc in docs_filtered]\n",
        "\n",
        "# epexsar cada documento con palabas para un mejor entendimiento\n",
        "\n",
        "# [[(gensim_dictionary[id], freq) for id, freq in cor] for cor in gensim_corpus] # se lee al reves el for"
      ],
      "metadata": {
        "id": "8xZpg9T4oI0e"
      },
      "execution_count": 60,
      "outputs": []
    },
    {
      "cell_type": "code",
      "source": [
        "# generación del modelo LDI\n",
        "\n",
        "from gensim.models.ldamulticore import LdaMulticore\n",
        "\n",
        "# generar modelo : Lda y LdaMulticore son intercambiable\n",
        "lda_model = LdaMulticore(\n",
        "                      corpus = gensim_corpus,\n",
        "                      id2word = gensim_dictionary,\n",
        "                      num_topics = 4,\n",
        "                      #chunck size = 6,\n",
        "                      passes = 10, #numero de pasadas al corpus durante el entrenamiento\n",
        "                      alpha = 0.2, #alfa: similaridad de documentos - tópicos\n",
        "                      eta = 0.2, # similaridad de topic - words\n",
        "                    )"
      ],
      "metadata": {
        "id": "q44jDMDPxza5"
      },
      "execution_count": 61,
      "outputs": []
    },
    {
      "cell_type": "code",
      "source": [
        "lda_model.print_topics(num_topics = 4, num_words = 4) #tópoicos y palabras con sus probabilidadas mostradas dentro del tópico"
      ],
      "metadata": {
        "colab": {
          "base_uri": "https://localhost:8080/"
        },
        "id": "QqyawUjCwk5Y",
        "outputId": "a00c31c1-a251-4faa-c36a-6c8d099b7097"
      },
      "execution_count": 62,
      "outputs": [
        {
          "output_type": "execute_result",
          "data": {
            "text/plain": [
              "[(0, '0.005*\"euskadi\" + 0.005*\"gobierno\" + 0.004*\"millones\" + 0.004*\"euros\"'),\n",
              " (1, '0.007*\"pp\" + 0.006*\"gobierno\" + 0.006*\"partido\" + 0.005*\"política\"'),\n",
              " (2,\n",
              "  '0.008*\"coronavirus\" + 0.007*\"gobierno\" + 0.006*\"personas\" + 0.006*\"madrid\"'),\n",
              " (3, '0.004*\"mujeres\" + 0.003*\"personas\" + 0.003*\"mundo\" + 0.003*\"vida\"')]"
            ]
          },
          "metadata": {},
          "execution_count": 62
        }
      ]
    },
    {
      "cell_type": "markdown",
      "metadata": {
        "id": "T5ux-Vw1gb1G"
      },
      "source": [
        "**12. Con base a esta técnica ¿qué cantidad de tópicos consideras que es la más adecuada? Compara tus\n",
        "resultados con el método LSI. ¿Qué encuentras de coincidencias y diferencias? ¿Cuál consideras\n",
        "puede ser el mejor resultado, es decir, cuál consideras puede ser la mejor cantidad de tópicos a\n",
        "considerar?**"
      ]
    },
    {
      "cell_type": "markdown",
      "source": [
        "**Tópicos obtenidos mediante LSI**\n",
        "\n",
        "1. 0.250*\"gobierno\" + 0.174*\"personas\" + 0.168*\"coronavirus\" + 0.143*\"madrid\"\n",
        "2. 0.278*\"pp\" + -0.275*\"casos\" + -0.249*\"coronavirus\" + 0.206*\"partido\"\n",
        "3. 0.447*\"casos\" + 0.211*\"madrid\" + 0.195*\"número\" + 0.160*\"pp\"\n",
        "4. 0.315*\"gobierno\" + -0.221*\"casos\" + 0.194*\"pp\" + 0.192*\"madrid\"\n",
        "\n",
        "**Tópicos obtenidos mediante LDI**\n",
        "\n",
        "1. '0.008*\"coronavirus\" + 0.006*\"personas\" + 0.005*\"casos\" + 0.004*\"datos\"\n",
        "2. '0.006*\"caso\" + 0.005*\"euros\" + 0.004*\"policía\" + 0.004*\"tribunal\"\n",
        "3. '0.003*\"mujeres\" + 0.003*\"vida\" + 0.003*\"personas\" + 0.002*\"vez\"'\n",
        "4. '0.011*\"gobierno\" + 0.007*\"pp\" + 0.006*\"partido\" + 0.005*\"política\"'"
      ],
      "metadata": {
        "id": "UmCOAlu5iENT"
      }
    },
    {
      "cell_type": "markdown",
      "source": [
        "**Son similares en la generalidad de los tópicos de los que se habla, sin embargo tienen algunas diferencias. Las palabas empleadas para definir el tópico son diferentes.** \n",
        "\n",
        "**En este caso y para que los métodos sean comparables se están analizando solamente 4 tópicos (conceptos latentes), se comparan sólo con 4 conceptos latentes ya que el mejor modelo de LDI obtuvo su mejor coherencia con 4 conceptos latentes.**\n",
        "\n",
        "\n",
        " **Ambos métodos son buenos y son complementarios como se revisó en clase. LSI ayuda a identificar los keywords y a obtener un panorama general de los tópicos, pero al ser muy general se pierde la asociación de palabras cuando hay alguna granularidad de por medio, esto es que los tópicos pueden veriar a niverl nacional o internacional por ejemplo.**\n",
        "\n",
        "**LDI analiza las palabras de forma probabilística,y la granularidad puede ser analizada con mayor facilidad, ya que identifica la asociación de determinadas palabras con el tópico.**"
      ],
      "metadata": {
        "id": "6cEutjavfGfG"
      }
    },
    {
      "cell_type": "markdown",
      "metadata": {
        "id": "RJOWRVQQgb9p"
      },
      "source": [
        "**13. La librería pyLDAvis nos ayuda a visualizar de manera interactiva los temas y tokens de los\n",
        "documentos analizados. Revisa la documentación y utilízala para visualizar tus mejor resultado.\n",
        "https://pypi.org/project/pyLDAvis/**"
      ]
    },
    {
      "cell_type": "code",
      "source": [
        "# !pip install pyLDAvis"
      ],
      "metadata": {
        "colab": {
          "base_uri": "https://localhost:8080/"
        },
        "id": "OvTB8xEY8CoB",
        "outputId": "079d5fa1-d186-47fa-fe10-6062530e9d2c"
      },
      "execution_count": 66,
      "outputs": [
        {
          "output_type": "stream",
          "name": "stderr",
          "text": [
            "/usr/local/lib/python3.10/dist-packages/ipykernel/ipkernel.py:283: DeprecationWarning: `should_run_async` will not call `transform_cell` automatically in the future. Please pass the result to `transformed_cell` argument and any exception that happen during thetransform in `preprocessing_exc_tuple` in IPython 7.17 and above.\n",
            "  and should_run_async(code)\n"
          ]
        }
      ]
    },
    {
      "cell_type": "code",
      "source": [
        "# import pyLDAvis\n",
        "# import pyLDAvis.gensim\n",
        "\n",
        "# pyLDAvis.enable_notebook()"
      ],
      "metadata": {
        "id": "9dZI0LZxAGK2",
        "colab": {
          "base_uri": "https://localhost:8080/"
        },
        "outputId": "90533175-23bf-4596-86d2-911d39744318"
      },
      "execution_count": 67,
      "outputs": [
        {
          "output_type": "stream",
          "name": "stderr",
          "text": [
            "/usr/local/lib/python3.10/dist-packages/ipykernel/ipkernel.py:283: DeprecationWarning: `should_run_async` will not call `transform_cell` automatically in the future. Please pass the result to `transformed_cell` argument and any exception that happen during thetransform in `preprocessing_exc_tuple` in IPython 7.17 and above.\n",
            "  and should_run_async(code)\n"
          ]
        }
      ]
    },
    {
      "cell_type": "code",
      "source": [
        "\n",
        "# p = pyLDAvis.gensim.prepare(lda_model, gensim_corpus, gensim_dictionary)\n",
        "# p"
      ],
      "metadata": {
        "colab": {
          "base_uri": "https://localhost:8080/"
        },
        "id": "vq_p46E9_tWE",
        "outputId": "7e91bdf9-a6e5-4add-a113-5fedfc00dc9c"
      },
      "execution_count": 68,
      "outputs": [
        {
          "output_type": "stream",
          "name": "stderr",
          "text": [
            "/usr/local/lib/python3.10/dist-packages/ipykernel/ipkernel.py:283: DeprecationWarning: `should_run_async` will not call `transform_cell` automatically in the future. Please pass the result to `transformed_cell` argument and any exception that happen during thetransform in `preprocessing_exc_tuple` in IPython 7.17 and above.\n",
            "  and should_run_async(code)\n"
          ]
        }
      ]
    }
  ],
  "metadata": {
    "colab": {
      "provenance": [],
      "authorship_tag": "ABX9TyM/2iQeEVXnMKX0YMLG1ulC",
      "include_colab_link": true
    },
    "kernelspec": {
      "display_name": "Python 3",
      "name": "python3"
    },
    "language_info": {
      "name": "python"
    }
  },
  "nbformat": 4,
  "nbformat_minor": 0
}